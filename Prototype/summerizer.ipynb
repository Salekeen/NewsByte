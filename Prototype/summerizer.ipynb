{
 "cells": [
  {
   "cell_type": "code",
   "execution_count": 1,
   "metadata": {},
   "outputs": [
    {
     "name": "stderr",
     "output_type": "stream",
     "text": [
      "d:\\Anaconda\\envs\\NLP\\lib\\site-packages\\scipy\\__init__.py:146: UserWarning: A NumPy version >=1.16.5 and <1.23.0 is required for this version of SciPy (detected version 1.23.1\n",
      "  warnings.warn(f\"A NumPy version >={np_minversion} and <{np_maxversion}\"\n"
     ]
    }
   ],
   "source": [
    "import pandas as pd\n",
    "from sumy.nlp.tokenizers import Tokenizer\n",
    "from sumy.summarizers.text_rank import TextRankSummarizer\n",
    "from sumy.summarizers.lsa import LsaSummarizer as Summarizer\n",
    "from sumy.parsers.plaintext import PlaintextParser\n",
    "from sumy.nlp.stemmers import Stemmer"
   ]
  },
  {
   "cell_type": "code",
   "execution_count": 2,
   "metadata": {},
   "outputs": [],
   "source": [
    "df = pd.read_csv(\"../Get Data/Daily Data/top_news_2022_10_03.csv\",encoding=\"cp1252\")"
   ]
  },
  {
   "cell_type": "code",
   "execution_count": 3,
   "metadata": {},
   "outputs": [
    {
     "data": {
      "text/plain": [
       "0     There are many ways a nation's history can be ...\n",
       "1     Climate Technology Park, launched on Saturday ...\n",
       "2     Comedian Abu Hena Rony, who suffered major bur...\n",
       "3     The Dhaka Stock Exchange (DSE) edged down toda...\n",
       "4     Top seed Novak Djokovic produced a stellar dis...\n",
       "5     The showbiz industry is buzzing about the reve...\n",
       "6     During her visit to New Delhi's National Galle...\n",
       "7     Out of the five largest economies in the world...\n",
       "8     Seventeen children were among at least 125 peo...\n",
       "9     Bollywood's most adorable couple, Malaika Aror...\n",
       "10    Export earnings dropped 6.25 per cent year-on-...\n",
       "11    Anger against police mounted in Indonesia on M...\n",
       "12    Bangladesh Chhatra League has been running its...\n",
       "13    Cricket Australia apologised to child sex abus...\n",
       "14    Robi Axiata Ltd, the second-largest mobile pho...\n",
       "15    Bangladesh stumbled in their second match of W...\n",
       "16    The ruling Awami League and its arch-rival the...\n",
       "17    The Chittagong Stock Exchange (CSE) fell today...\n",
       "18    More rains are likely to drench Bangladesh in ...\n",
       "19    The National Board of Revenue (NBR) is likely ...\n",
       "Name: Article, dtype: object"
      ]
     },
     "execution_count": 3,
     "metadata": {},
     "output_type": "execute_result"
    }
   ],
   "source": [
    "df['Article']"
   ]
  },
  {
   "cell_type": "code",
   "execution_count": 4,
   "metadata": {},
   "outputs": [],
   "source": [
    "article = df['Article'][1]\n",
    "headline = df['Headline'][1]"
   ]
  },
  {
   "cell_type": "code",
   "execution_count": 5,
   "metadata": {},
   "outputs": [
    {
     "name": "stdout",
     "output_type": "stream",
     "text": [
      "Climate Technology Park, launched on Saturday in Gazipur's Sripur upazila, is set to open a new horizon in adaptation research to tackle the impacts of climate change.The centre was built by Christian Commission for the Development of Bangladesh (CCDB), with financial support from German-based donor agency Brot Fur Die Welt (Bread for the World).Minister of Agriculture Muhammad Abdur Razzaque inaugurated the facility.\"The centre will bring a radical change in the country's fight against climate change,\" he said.\"Gazipur was renowned for its sprawling Sal forest. However, that is old history now. The destruction of the forest reserves is one of the major causes behind global warming and climate change. The more the deforestation, the more the natural calamities,\" he added.Those involved with the facility said this centre will address the knowledge gap, lack of climate technologies and action research to create contextual solution to the climate crisis through engaging academia, researchers, affected communities, development practitioners and policy makers.The centre was built in an area of 30 acres and has five ecological zones, including a haor region, a dry region, Char areas, hilly areas and a coastal zone, illustrating the resilience mechanism of each zone.Climate expert Saleemul Huq told The Daily Star that there are different activities going on in different regions.One of the key features of the facility is that it has five different ecosystem zones in display, where one can easily get a picture of what kind of impact each zone is facing.\"Global researchers will come here to see how we are coping with the impacts of climate change. They will share their knowledge and learn from our resilience strategies,\" he said.The state-of-art facility will mainstream the transformative community-led adaptation and climate risk reduction by accelerating innovation, capacity development and knowledge dissemination, said CCDB Executive Director Juliate Keya Malakar.\"It is our dream that this centre will now start supporting us, the communities we work with, and the country, in shaping our common future in climate resilience and zero carbon emission pathways\", she said.The facility also has 70 practical technologies that are effective in adaptation, mitigation and disaster risk reduction.It also accommodates a climate learning centre, digital theatre, exhibition zone, conference hall, library, research centre and young learners' zone within the 30-acre area.While visiting the facility, Thomas Hirsch, policy advisor from Climate and Development Advice, a Germany-based organisation, said Bangladesh is among the five most vulnerable nations in terms of climate change.\"This facility was designed in a way to bring together different stakeholders to develop the solution that Bangladesh needs. This centre will be a hub of knowledge exchange not only in Bangladesh but also within South Asia. German and American scientists will come here to help find better solutions as well,\" he said.Petra Berner, director international (programme) of Bread for the World, said the idea of the centre was conceived in 2012 and it was a long journey to get here.\"The idea behind building such a facility came from the ideas about what can be done to fight the impact of climate change. It will serve as a centre to connect the knowledge produced by the local community to the experts to strengthen the climate resilience mechanism,\" she said. The arrangement for a guided tour to take a look at the various zones can be availed by any visitor, she added.\n"
     ]
    }
   ],
   "source": [
    "print(article)"
   ]
  },
  {
   "cell_type": "code",
   "execution_count": 6,
   "metadata": {},
   "outputs": [],
   "source": [
    "parser = PlaintextParser.from_string(article,Tokenizer(\"english\"))\n",
    "stemmer = Stemmer(\"english\")"
   ]
  },
  {
   "cell_type": "code",
   "execution_count": 7,
   "metadata": {},
   "outputs": [],
   "source": [
    "summerizer = TextRankSummarizer()"
   ]
  },
  {
   "cell_type": "code",
   "execution_count": 8,
   "metadata": {},
   "outputs": [
    {
     "name": "stdout",
     "output_type": "stream",
     "text": [
      "New horizon in climate research\n",
      "\n",
      "The more the deforestation, the more the natural calamities,\" he added.Those involved with the facility said this centre will address the knowledge gap, lack of climate technologies and action research to create contextual solution to the climate crisis through engaging academia, researchers, affected communities, development practitioners and policy makers.The centre was built in an area of 30 acres and has five ecological zones, including a haor region, a dry region, Char areas, hilly areas and a coastal zone, illustrating the resilience mechanism of each zone.Climate expert Saleemul Huq told The Daily Star that there are different activities going on in different regions.One of the key features of the facility is that it has five different ecosystem zones in display, where one can easily get a picture of what kind of impact each zone is facing.\n",
      "\"It is our dream that this centre will now start supporting us, the communities we work with, and the country, in shaping our common future in climate resilience and zero carbon emission pathways\", she said.The facility also has 70 practical technologies that are effective in adaptation, mitigation and disaster risk reduction.It also accommodates a climate learning centre, digital theatre, exhibition zone, conference hall, library, research centre and young learners' zone within the 30-acre area.While visiting the facility, Thomas Hirsch, policy advisor from Climate and Development Advice, a Germany-based organisation, said Bangladesh is among the five most vulnerable nations in terms of climate change.\n"
     ]
    }
   ],
   "source": [
    "print(headline)\n",
    "print()\n",
    "for sentence in summerizer(parser.document,2):\n",
    "    print(sentence)"
   ]
  },
  {
   "cell_type": "code",
   "execution_count": 9,
   "metadata": {},
   "outputs": [],
   "source": [
    "summerizer = Summarizer(stemmer)"
   ]
  },
  {
   "cell_type": "code",
   "execution_count": 11,
   "metadata": {},
   "outputs": [
    {
     "name": "stdout",
     "output_type": "stream",
     "text": [
      "New horizon in climate research\n",
      "\n",
      "<class 'sumy.models.dom._sentence.Sentence'>\n",
      "<class 'sumy.models.dom._sentence.Sentence'>\n",
      "<class 'sumy.models.dom._sentence.Sentence'>\n"
     ]
    }
   ],
   "source": [
    "print(headline)\n",
    "print()\n",
    "for sentence in summerizer(parser.document, 3):\n",
    "        print(type(sentence))"
   ]
  }
 ],
 "metadata": {
  "kernelspec": {
   "display_name": "Python 3.10.4 ('NLP')",
   "language": "python",
   "name": "python3"
  },
  "language_info": {
   "codemirror_mode": {
    "name": "ipython",
    "version": 3
   },
   "file_extension": ".py",
   "mimetype": "text/x-python",
   "name": "python",
   "nbconvert_exporter": "python",
   "pygments_lexer": "ipython3",
   "version": "3.10.4"
  },
  "orig_nbformat": 4,
  "vscode": {
   "interpreter": {
    "hash": "b308425c1363782e5433040c69737be01249237cf93c313549cb11eaac821734"
   }
  }
 },
 "nbformat": 4,
 "nbformat_minor": 2
}
