{
 "cells": [
  {
   "cell_type": "code",
   "execution_count": 23,
   "metadata": {},
   "outputs": [],
   "source": [
    "import pandas as pd\n",
    "from sumy.nlp.tokenizers import Tokenizer\n",
    "from sumy.summarizers.text_rank import TextRankSummarizer\n",
    "from sumy.parsers.plaintext import PlaintextParser\n",
    "from sumy.nlp.stemmers import Stemmer"
   ]
  },
  {
   "cell_type": "code",
   "execution_count": 24,
   "metadata": {},
   "outputs": [],
   "source": [
    "df = pd.read_csv(\"../Get Data/Daily Data/top_news_2022_10_03.csv\",encoding=\"cp1252\")"
   ]
  },
  {
   "cell_type": "code",
   "execution_count": 25,
   "metadata": {},
   "outputs": [],
   "source": [
    "article = df['Article'][2]"
   ]
  },
  {
   "cell_type": "code",
   "execution_count": 26,
   "metadata": {},
   "outputs": [],
   "source": [
    "parser = PlaintextParser.from_string(article,Tokenizer(\"english\"))"
   ]
  },
  {
   "cell_type": "code",
   "execution_count": 27,
   "metadata": {},
   "outputs": [],
   "source": [
    "stemmer = Stemmer(\"english\")"
   ]
  },
  {
   "cell_type": "code",
   "execution_count": 28,
   "metadata": {},
   "outputs": [],
   "source": [
    "summerizer = TextRankSummarizer()"
   ]
  },
  {
   "cell_type": "code",
   "execution_count": 29,
   "metadata": {},
   "outputs": [
    {
     "name": "stdout",
     "output_type": "stream",
     "text": [
      "However, Rony will still have to visit the hospital for regular checkups, due to the severity of his injuries.On September 16, Abu Hena Rony and four other policemen were severely burnt during a gas balloon explosion, at the anniversary celebration of Gazipur Metropolitan Police.\n",
      "Rony and Zillur Rahman, a policeman, were later sent to Sheikh Hasina National Institute of Burn and Plastic Surgery, as the severity of their burn injuries was much higher.On September 17, Dr Samanta Lal Sen—coordinator of Sheikh Hasina National Institute of Burn and Plastic Surgery—informed The Daily Star that Rony had suffered 25 percent burns, while policeman Zillur Rahman had suffered 19 percent burns.\n"
     ]
    }
   ],
   "source": [
    "for sentence in summerizer(parser.document,2):\n",
    "    print(sentence)"
   ]
  },
  {
   "cell_type": "code",
   "execution_count": 30,
   "metadata": {},
   "outputs": [],
   "source": [
    "from sumy.summarizers.lsa import LsaSummarizer as Summarizer"
   ]
  },
  {
   "cell_type": "code",
   "execution_count": 31,
   "metadata": {},
   "outputs": [],
   "source": [
    "summerizer = Summarizer(stemmer)"
   ]
  },
  {
   "cell_type": "code",
   "execution_count": 34,
   "metadata": {},
   "outputs": [
    {
     "name": "stdout",
     "output_type": "stream",
     "text": [
      "Comedian Abu Hena Rony, who suffered major burn injuries during a gas explosion, is now recovering rapidly at the hospital.\n",
      "The doctors have been hopeful that they will be able to release him soon.\n",
      "The injured were initially taken to Gazipur Shaheed Tajuddin Ahmad Medical College Hospital.\n",
      "They were both kept at the HDU after their wounds had been dressed.\n"
     ]
    }
   ],
   "source": [
    "for sentence in summerizer(parser.document, 4):\n",
    "        print(sentence)"
   ]
  },
  {
   "cell_type": "code",
   "execution_count": 33,
   "metadata": {},
   "outputs": [
    {
     "data": {
      "text/plain": [
       "'Comedian Abu Hena Rony, who suffered major burn injuries during a gas explosion, is now recovering rapidly at the hospital. Rony will be discharged from Sheikh Hasina National Institute of Burn and Plastic Surgery after Puja.Earlier on, Rony was shifted from the High Dependency Unit (HDU) to a cabin. He is currently able to walk and eat properly. The doctors have been hopeful that they will be able to release him soon. However, Rony will still have to visit the hospital for regular checkups, due to the severity of his injuries.On September 16, Abu Hena Rony and four other policemen were severely burnt during a gas balloon explosion, at the anniversary celebration of Gazipur Metropolitan Police. The injured were initially taken to Gazipur Shaheed Tajuddin Ahmad Medical College Hospital.\\xa0Rony and Zillur Rahman, a policeman, were later sent to Sheikh Hasina National Institute of Burn and Plastic Surgery, as the severity of their burn injuries was much higher.On September 17, Dr Samanta Lal Sen—coordinator of Sheikh Hasina National Institute of Burn and Plastic Surgery—informed The Daily Star that Rony had suffered 25 percent burns, while policeman Zillur Rahman had suffered 19 percent burns. They were both kept at the HDU after their wounds had been dressed.\\xa0'"
      ]
     },
     "execution_count": 33,
     "metadata": {},
     "output_type": "execute_result"
    }
   ],
   "source": [
    "article"
   ]
  },
  {
   "cell_type": "code",
   "execution_count": null,
   "metadata": {},
   "outputs": [],
   "source": []
  }
 ],
 "metadata": {
  "kernelspec": {
   "display_name": "Python 3.10.4 ('NLP')",
   "language": "python",
   "name": "python3"
  },
  "language_info": {
   "codemirror_mode": {
    "name": "ipython",
    "version": 3
   },
   "file_extension": ".py",
   "mimetype": "text/x-python",
   "name": "python",
   "nbconvert_exporter": "python",
   "pygments_lexer": "ipython3",
   "version": "3.10.4"
  },
  "orig_nbformat": 4,
  "vscode": {
   "interpreter": {
    "hash": "b308425c1363782e5433040c69737be01249237cf93c313549cb11eaac821734"
   }
  }
 },
 "nbformat": 4,
 "nbformat_minor": 2
}
