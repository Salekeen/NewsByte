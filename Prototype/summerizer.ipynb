{
 "cells": [
  {
   "cell_type": "code",
   "execution_count": 90,
   "metadata": {},
   "outputs": [],
   "source": [
    "import pandas as pd\n",
    "from sumy.nlp.tokenizers import Tokenizer\n",
    "from sumy.summarizers.text_rank import TextRankSummarizer\n",
    "from sumy.summarizers.lsa import LsaSummarizer as Summarizer\n",
    "from sumy.parsers.plaintext import PlaintextParser\n",
    "from sumy.nlp.stemmers import Stemmer"
   ]
  },
  {
   "cell_type": "code",
   "execution_count": 91,
   "metadata": {},
   "outputs": [],
   "source": [
    "df = pd.read_csv(\"../Get Data/Daily Data/top_news_2022_10_03.csv\",encoding=\"cp1252\")"
   ]
  },
  {
   "cell_type": "code",
   "execution_count": 92,
   "metadata": {},
   "outputs": [],
   "source": [
    "article = df['Article'][1]\n",
    "headline = df['Headline'][1]"
   ]
  },
  {
   "cell_type": "code",
   "execution_count": 93,
   "metadata": {},
   "outputs": [
    {
     "name": "stdout",
     "output_type": "stream",
     "text": [
      "Climate Technology Park, launched on Saturday in Gazipur's Sripur upazila, is set to open a new horizon in adaptation research to tackle the impacts of climate change.The centre was built by Christian Commission for the Development of Bangladesh (CCDB), with financial support from German-based donor agency Brot Fur Die Welt (Bread for the World).Minister of Agriculture Muhammad Abdur Razzaque inaugurated the facility.\"The centre will bring a radical change in the country's fight against climate change,\" he said.\"Gazipur was renowned for its sprawling Sal forest. However, that is old history now. The destruction of the forest reserves is one of the major causes behind global warming and climate change. The more the deforestation, the more the natural calamities,\" he added.Those involved with the facility said this centre will address the knowledge gap, lack of climate technologies and action research to create contextual solution to the climate crisis through engaging academia, researchers, affected communities, development practitioners and policy makers.The centre was built in an area of 30 acres and has five ecological zones, including a haor region, a dry region, Char areas, hilly areas and a coastal zone, illustrating the resilience mechanism of each zone.Climate expert Saleemul Huq told The Daily Star that there are different activities going on in different regions.One of the key features of the facility is that it has five different ecosystem zones in display, where one can easily get a picture of what kind of impact each zone is facing.\"Global researchers will come here to see how we are coping with the impacts of climate change. They will share their knowledge and learn from our resilience strategies,\" he said.The state-of-art facility will mainstream the transformative community-led adaptation and climate risk reduction by accelerating innovation, capacity development and knowledge dissemination, said CCDB Executive Director Juliate Keya Malakar.\"It is our dream that this centre will now start supporting us, the communities we work with, and the country, in shaping our common future in climate resilience and zero carbon emission pathways\", she said.The facility also has 70 practical technologies that are effective in adaptation, mitigation and disaster risk reduction.It also accommodates a climate learning centre, digital theatre, exhibition zone, conference hall, library, research centre and young learners' zone within the 30-acre area.While visiting the facility, Thomas Hirsch, policy advisor from Climate and Development Advice, a Germany-based organisation, said Bangladesh is among the five most vulnerable nations in terms of climate change.\"This facility was designed in a way to bring together different stakeholders to develop the solution that Bangladesh needs. This centre will be a hub of knowledge exchange not only in Bangladesh but also within South Asia. German and American scientists will come here to help find better solutions as well,\" he said.Petra Berner, director international (programme) of Bread for the World, said the idea of the centre was conceived in 2012 and it was a long journey to get here.\"The idea behind building such a facility came from the ideas about what can be done to fight the impact of climate change. It will serve as a centre to connect the knowledge produced by the local community to the experts to strengthen the climate resilience mechanism,\" she said. The arrangement for a guided tour to take a look at the various zones can be availed by any visitor, she added.\n"
     ]
    }
   ],
   "source": [
    "print(article)"
   ]
  },
  {
   "cell_type": "code",
   "execution_count": 94,
   "metadata": {},
   "outputs": [],
   "source": [
    "parser = PlaintextParser.from_string(article,Tokenizer(\"english\"))\n",
    "stemmer = Stemmer(\"english\")"
   ]
  },
  {
   "cell_type": "code",
   "execution_count": 95,
   "metadata": {},
   "outputs": [],
   "source": [
    "summerizer = TextRankSummarizer()"
   ]
  },
  {
   "cell_type": "code",
   "execution_count": 96,
   "metadata": {},
   "outputs": [
    {
     "name": "stdout",
     "output_type": "stream",
     "text": [
      "New horizon in climate research\n",
      "\n",
      "The more the deforestation, the more the natural calamities,\" he added.Those involved with the facility said this centre will address the knowledge gap, lack of climate technologies and action research to create contextual solution to the climate crisis through engaging academia, researchers, affected communities, development practitioners and policy makers.The centre was built in an area of 30 acres and has five ecological zones, including a haor region, a dry region, Char areas, hilly areas and a coastal zone, illustrating the resilience mechanism of each zone.Climate expert Saleemul Huq told The Daily Star that there are different activities going on in different regions.One of the key features of the facility is that it has five different ecosystem zones in display, where one can easily get a picture of what kind of impact each zone is facing.\n",
      "\"It is our dream that this centre will now start supporting us, the communities we work with, and the country, in shaping our common future in climate resilience and zero carbon emission pathways\", she said.The facility also has 70 practical technologies that are effective in adaptation, mitigation and disaster risk reduction.It also accommodates a climate learning centre, digital theatre, exhibition zone, conference hall, library, research centre and young learners' zone within the 30-acre area.While visiting the facility, Thomas Hirsch, policy advisor from Climate and Development Advice, a Germany-based organisation, said Bangladesh is among the five most vulnerable nations in terms of climate change.\n"
     ]
    }
   ],
   "source": [
    "print(headline)\n",
    "print()\n",
    "for sentence in summerizer(parser.document,2):\n",
    "    print(sentence)"
   ]
  },
  {
   "cell_type": "code",
   "execution_count": 97,
   "metadata": {},
   "outputs": [],
   "source": [
    "summerizer = Summarizer(stemmer)"
   ]
  },
  {
   "cell_type": "code",
   "execution_count": 98,
   "metadata": {},
   "outputs": [
    {
     "name": "stdout",
     "output_type": "stream",
     "text": [
      "New horizon in climate research\n",
      "\n",
      "\"Global researchers will come here to see how we are coping with the impacts of climate change.\n",
      "\"It is our dream that this centre will now start supporting us, the communities we work with, and the country, in shaping our common future in climate resilience and zero carbon emission pathways\", she said.The facility also has 70 practical technologies that are effective in adaptation, mitigation and disaster risk reduction.It also accommodates a climate learning centre, digital theatre, exhibition zone, conference hall, library, research centre and young learners' zone within the 30-acre area.While visiting the facility, Thomas Hirsch, policy advisor from Climate and Development Advice, a Germany-based organisation, said Bangladesh is among the five most vulnerable nations in terms of climate change.\n",
      "This centre will be a hub of knowledge exchange not only in Bangladesh but also within South Asia.\n"
     ]
    }
   ],
   "source": [
    "print(headline)\n",
    "print()\n",
    "for sentence in summerizer(parser.document, 3):\n",
    "        print(sentence)"
   ]
  }
 ],
 "metadata": {
  "kernelspec": {
   "display_name": "Python 3.10.4 ('NLP')",
   "language": "python",
   "name": "python3"
  },
  "language_info": {
   "codemirror_mode": {
    "name": "ipython",
    "version": 3
   },
   "file_extension": ".py",
   "mimetype": "text/x-python",
   "name": "python",
   "nbconvert_exporter": "python",
   "pygments_lexer": "ipython3",
   "version": "3.10.4"
  },
  "orig_nbformat": 4,
  "vscode": {
   "interpreter": {
    "hash": "b308425c1363782e5433040c69737be01249237cf93c313549cb11eaac821734"
   }
  }
 },
 "nbformat": 4,
 "nbformat_minor": 2
}
