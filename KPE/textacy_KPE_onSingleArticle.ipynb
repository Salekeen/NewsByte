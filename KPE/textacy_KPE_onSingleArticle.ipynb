{
 "cells": [
  {
   "cell_type": "code",
   "execution_count": 1,
   "metadata": {},
   "outputs": [],
   "source": [
    "import textacy\n",
    "import pandas as pd"
   ]
  },
  {
   "cell_type": "code",
   "execution_count": 2,
   "metadata": {},
   "outputs": [],
   "source": [
    "from load_data import get_df\n",
    "df = get_df()\n",
    "df.reset_index(inplace=True)"
   ]
  },
  {
   "cell_type": "code",
   "execution_count": 3,
   "metadata": {},
   "outputs": [],
   "source": [
    "# single text doc\n",
    "text = df['Article'][6]"
   ]
  },
  {
   "cell_type": "code",
   "execution_count": 4,
   "metadata": {},
   "outputs": [
    {
     "data": {
      "text/plain": [
       "'Four people, including a policeman, were killed in a road accident on Dhaka-Khulna highway in Gopalganj Sadar upazila yesterday morning.Of the dead, Abdul Alim, 30, was a member of Barishal Metropolitan Police, and Joynal Abedin, 22, a resident of Bagerhat Sadar upazila. The identities of the\\xa0 other two deceased could not be known immediately, said police.The accident took place as the driver of a Bagerhat-bound Didar Paribahan bus lost control over the vehicle and hit a roadside tree, said Nasir Uddin, officer-in-charge of Gopalganj Sadar Police Station.The four died on the spot. At least 15 more were injured in the accident, he said, adding that the injured were rushed to Gopalganj General Hospital for treatment.Of the injured, 10 were admitted to the hospital and two were referred to Khulan Medical College Hospital, said Faruq Ahamed, residential medical officer of Gopalganj General Hospital.Monirul Islam, one of the passengers on the bus, claimed the accident occurred due to reckless driving.'"
      ]
     },
     "execution_count": 4,
     "metadata": {},
     "output_type": "execute_result"
    }
   ],
   "source": [
    "text"
   ]
  },
  {
   "cell_type": "code",
   "execution_count": 5,
   "metadata": {},
   "outputs": [],
   "source": [
    "en = textacy.load_spacy_lang(\"en_core_web_sm\",disable=(\"parser\",))\n",
    "doc = textacy.make_spacy_doc(text,lang=en)"
   ]
  },
  {
   "cell_type": "code",
   "execution_count": 6,
   "metadata": {},
   "outputs": [
    {
     "data": {
      "text/plain": [
       "'Doc(198 tokens: \"Four people, including a policeman, were killed...\")'"
      ]
     },
     "execution_count": 6,
     "metadata": {},
     "output_type": "execute_result"
    }
   ],
   "source": [
    "doc._.preview"
   ]
  },
  {
   "cell_type": "code",
   "execution_count": 7,
   "metadata": {},
   "outputs": [],
   "source": [
    "from textacy.extract import keyterms as kt"
   ]
  },
  {
   "cell_type": "code",
   "execution_count": 8,
   "metadata": {},
   "outputs": [
    {
     "data": {
      "text/plain": [
       "[('Gopalganj Sadar Police Station', 0.05475494337436971),\n",
       " ('Gopalganj General Hospital', 0.03962783997973497),\n",
       " ('Bagerhat Sadar', 0.02630056532716763),\n",
       " ('Khulan Medical College Hospital', 0.023101351374865745),\n",
       " ('Barishal Metropolitan Police', 0.022056612555309912),\n",
       " ('Abdul Alim', 0.011039612356512064),\n",
       " ('Joynal Abedin', 0.010348012510808156),\n",
       " ('Nasir Uddin', 0.009157559500129796),\n",
       " ('Didar Paribahan', 0.008468265346612231),\n",
       " ('Monirul Islam', 0.008132399950054471)]"
      ]
     },
     "execution_count": 8,
     "metadata": {},
     "output_type": "execute_result"
    }
   ],
   "source": [
    "kt.textrank(\n",
    "    doc,\n",
    "    normalize=\"lemma\",\n",
    "    window_size=10,\n",
    "    edge_weighting=\"count\",\n",
    "    position_bias=True,\n",
    "    topn = 10,\n",
    ")"
   ]
  },
  {
   "cell_type": "code",
   "execution_count": null,
   "metadata": {},
   "outputs": [],
   "source": []
  }
 ],
 "metadata": {
  "kernelspec": {
   "display_name": "Python 3.10.4 ('NLP')",
   "language": "python",
   "name": "python3"
  },
  "language_info": {
   "codemirror_mode": {
    "name": "ipython",
    "version": 3
   },
   "file_extension": ".py",
   "mimetype": "text/x-python",
   "name": "python",
   "nbconvert_exporter": "python",
   "pygments_lexer": "ipython3",
   "version": "3.10.4"
  },
  "orig_nbformat": 4,
  "vscode": {
   "interpreter": {
    "hash": "b308425c1363782e5433040c69737be01249237cf93c313549cb11eaac821734"
   }
  }
 },
 "nbformat": 4,
 "nbformat_minor": 2
}
