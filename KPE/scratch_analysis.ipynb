{
 "cells": [
  {
   "cell_type": "code",
   "execution_count": 5,
   "metadata": {},
   "outputs": [],
   "source": [
    "import pandas as pd\n",
    "import load_data"
   ]
  },
  {
   "cell_type": "code",
   "execution_count": 6,
   "metadata": {},
   "outputs": [],
   "source": [
    "df = load_data.get_df()"
   ]
  },
  {
   "cell_type": "code",
   "execution_count": 7,
   "metadata": {},
   "outputs": [
    {
     "data": {
      "text/plain": [
       "(426, 3)"
      ]
     },
     "execution_count": 7,
     "metadata": {},
     "output_type": "execute_result"
    }
   ],
   "source": [
    "df.shape"
   ]
  },
  {
   "cell_type": "code",
   "execution_count": 8,
   "metadata": {},
   "outputs": [
    {
     "data": {
      "text/plain": [
       "Index(['URLS', 'Headline', 'Article'], dtype='object')"
      ]
     },
     "execution_count": 8,
     "metadata": {},
     "output_type": "execute_result"
    }
   ],
   "source": [
    "df.columns"
   ]
  },
  {
   "cell_type": "code",
   "execution_count": 9,
   "metadata": {},
   "outputs": [
    {
     "data": {
      "text/html": [
       "<div>\n",
       "<style scoped>\n",
       "    .dataframe tbody tr th:only-of-type {\n",
       "        vertical-align: middle;\n",
       "    }\n",
       "\n",
       "    .dataframe tbody tr th {\n",
       "        vertical-align: top;\n",
       "    }\n",
       "\n",
       "    .dataframe thead th {\n",
       "        text-align: right;\n",
       "    }\n",
       "</style>\n",
       "<table border=\"1\" class=\"dataframe\">\n",
       "  <thead>\n",
       "    <tr style=\"text-align: right;\">\n",
       "      <th></th>\n",
       "      <th>URLS</th>\n",
       "      <th>Headline</th>\n",
       "      <th>Article</th>\n",
       "    </tr>\n",
       "  </thead>\n",
       "  <tbody>\n",
       "    <tr>\n",
       "      <th>0</th>\n",
       "      <td>/business/economy/opinion/news/averting-fiscal...</td>\n",
       "      <td>Averting fiscal crises in a deteriorating glob...</td>\n",
       "      <td>The war in Ukraine and aftershocks from the Co...</td>\n",
       "    </tr>\n",
       "    <tr>\n",
       "      <th>1</th>\n",
       "      <td>/opinion/views/news/remembering-the-queens-leg...</td>\n",
       "      <td>In remembering the 'Queen's legacy', why do we...</td>\n",
       "      <td>When news broke of the death of Queen Elizabet...</td>\n",
       "    </tr>\n",
       "    <tr>\n",
       "      <th>2</th>\n",
       "      <td>/news/bangladesh/news/temple-idol-vandalised-j...</td>\n",
       "      <td>Temple idol vandalised in Jhenidah</td>\n",
       "      <td>Unidentified miscreants vandalised an idol of ...</td>\n",
       "    </tr>\n",
       "    <tr>\n",
       "      <th>3</th>\n",
       "      <td>/news/bangladesh/crime-justice/news/attack-bcl...</td>\n",
       "      <td>\"Attack on BCL men\": 24 Chhatra Odhikar Parish...</td>\n",
       "      <td>A Dhaka court has sent 24 leaders and activist...</td>\n",
       "    </tr>\n",
       "    <tr>\n",
       "      <th>4</th>\n",
       "      <td>/opinion/views/news/shanghai-cooperation-organ...</td>\n",
       "      <td>Shanghai Cooperation Organization Summit 2022:...</td>\n",
       "      <td>The Shanghai Cooperation Organization's (SCO) ...</td>\n",
       "    </tr>\n",
       "  </tbody>\n",
       "</table>\n",
       "</div>"
      ],
      "text/plain": [
       "                                                URLS  \\\n",
       "0  /business/economy/opinion/news/averting-fiscal...   \n",
       "1  /opinion/views/news/remembering-the-queens-leg...   \n",
       "2  /news/bangladesh/news/temple-idol-vandalised-j...   \n",
       "3  /news/bangladesh/crime-justice/news/attack-bcl...   \n",
       "4  /opinion/views/news/shanghai-cooperation-organ...   \n",
       "\n",
       "                                            Headline  \\\n",
       "0  Averting fiscal crises in a deteriorating glob...   \n",
       "1  In remembering the 'Queen's legacy', why do we...   \n",
       "2                 Temple idol vandalised in Jhenidah   \n",
       "3  \"Attack on BCL men\": 24 Chhatra Odhikar Parish...   \n",
       "4  Shanghai Cooperation Organization Summit 2022:...   \n",
       "\n",
       "                                             Article  \n",
       "0  The war in Ukraine and aftershocks from the Co...  \n",
       "1  When news broke of the death of Queen Elizabet...  \n",
       "2  Unidentified miscreants vandalised an idol of ...  \n",
       "3  A Dhaka court has sent 24 leaders and activist...  \n",
       "4  The Shanghai Cooperation Organization's (SCO) ...  "
      ]
     },
     "execution_count": 9,
     "metadata": {},
     "output_type": "execute_result"
    }
   ],
   "source": [
    "df.head()"
   ]
  },
  {
   "cell_type": "markdown",
   "metadata": {},
   "source": [
    "#### Preliminary text exploration"
   ]
  },
  {
   "cell_type": "code",
   "execution_count": 10,
   "metadata": {},
   "outputs": [],
   "source": [
    "# Fetch the word_cound for each headline\n",
    "df['word_count_headline'] = df['Headline'].apply(\n",
    "    lambda x: len(str(x).split(\" \"))\n",
    ")"
   ]
  },
  {
   "cell_type": "code",
   "execution_count": 12,
   "metadata": {},
   "outputs": [
    {
     "data": {
      "text/html": [
       "<div>\n",
       "<style scoped>\n",
       "    .dataframe tbody tr th:only-of-type {\n",
       "        vertical-align: middle;\n",
       "    }\n",
       "\n",
       "    .dataframe tbody tr th {\n",
       "        vertical-align: top;\n",
       "    }\n",
       "\n",
       "    .dataframe thead th {\n",
       "        text-align: right;\n",
       "    }\n",
       "</style>\n",
       "<table border=\"1\" class=\"dataframe\">\n",
       "  <thead>\n",
       "    <tr style=\"text-align: right;\">\n",
       "      <th></th>\n",
       "      <th>Headline</th>\n",
       "      <th>word_count_headline</th>\n",
       "    </tr>\n",
       "  </thead>\n",
       "  <tbody>\n",
       "    <tr>\n",
       "      <th>0</th>\n",
       "      <td>Averting fiscal crises in a deteriorating glob...</td>\n",
       "      <td>9</td>\n",
       "    </tr>\n",
       "    <tr>\n",
       "      <th>1</th>\n",
       "      <td>In remembering the 'Queen's legacy', why do we...</td>\n",
       "      <td>14</td>\n",
       "    </tr>\n",
       "    <tr>\n",
       "      <th>2</th>\n",
       "      <td>Temple idol vandalised in Jhenidah</td>\n",
       "      <td>5</td>\n",
       "    </tr>\n",
       "    <tr>\n",
       "      <th>3</th>\n",
       "      <td>\"Attack on BCL men\": 24 Chhatra Odhikar Parish...</td>\n",
       "      <td>12</td>\n",
       "    </tr>\n",
       "    <tr>\n",
       "      <th>4</th>\n",
       "      <td>Shanghai Cooperation Organization Summit 2022:...</td>\n",
       "      <td>9</td>\n",
       "    </tr>\n",
       "    <tr>\n",
       "      <th>5</th>\n",
       "      <td>Hoolock rescued in Ctg; 2 detained</td>\n",
       "      <td>6</td>\n",
       "    </tr>\n",
       "    <tr>\n",
       "      <th>6</th>\n",
       "      <td>4 killed in Gopalganj road crash</td>\n",
       "      <td>7</td>\n",
       "    </tr>\n",
       "    <tr>\n",
       "      <th>7</th>\n",
       "      <td>An unusual gift for Putin on his 70th birthday</td>\n",
       "      <td>9</td>\n",
       "    </tr>\n",
       "    <tr>\n",
       "      <th>8</th>\n",
       "      <td>Seminar on managing pain held</td>\n",
       "      <td>5</td>\n",
       "    </tr>\n",
       "    <tr>\n",
       "      <th>9</th>\n",
       "      <td>OPEC+ oil output cut shows widening rift betwe...</td>\n",
       "      <td>12</td>\n",
       "    </tr>\n",
       "  </tbody>\n",
       "</table>\n",
       "</div>"
      ],
      "text/plain": [
       "                                            Headline  word_count_headline\n",
       "0  Averting fiscal crises in a deteriorating glob...                    9\n",
       "1  In remembering the 'Queen's legacy', why do we...                   14\n",
       "2                 Temple idol vandalised in Jhenidah                    5\n",
       "3  \"Attack on BCL men\": 24 Chhatra Odhikar Parish...                   12\n",
       "4  Shanghai Cooperation Organization Summit 2022:...                    9\n",
       "5                 Hoolock rescued in Ctg; 2 detained                    6\n",
       "6                  4 killed in Gopalganj road crash                     7\n",
       "7     An unusual gift for Putin on his 70th birthday                    9\n",
       "8                      Seminar on managing pain held                    5\n",
       "9  OPEC+ oil output cut shows widening rift betwe...                   12"
      ]
     },
     "execution_count": 12,
     "metadata": {},
     "output_type": "execute_result"
    }
   ],
   "source": [
    "df[['Headline','word_count_headline']].head(10)"
   ]
  },
  {
   "cell_type": "code",
   "execution_count": 13,
   "metadata": {},
   "outputs": [
    {
     "data": {
      "text/plain": [
       "7     63\n",
       "8     62\n",
       "9     58\n",
       "5     56\n",
       "6     48\n",
       "10    44\n",
       "11    25\n",
       "12    20\n",
       "4     17\n",
       "13    10\n",
       "3      9\n",
       "14     6\n",
       "2      3\n",
       "16     2\n",
       "17     1\n",
       "15     1\n",
       "21     1\n",
       "Name: word_count_headline, dtype: int64"
      ]
     },
     "execution_count": 13,
     "metadata": {},
     "output_type": "execute_result"
    }
   ],
   "source": [
    "df.word_count_headline.value_counts()"
   ]
  },
  {
   "cell_type": "code",
   "execution_count": 14,
   "metadata": {},
   "outputs": [
    {
     "data": {
      "text/plain": [
       "count    426.000000\n",
       "mean       7.938967\n",
       "std        2.672040\n",
       "min        2.000000\n",
       "25%        6.000000\n",
       "50%        8.000000\n",
       "75%       10.000000\n",
       "max       21.000000\n",
       "Name: word_count_headline, dtype: float64"
      ]
     },
     "execution_count": 14,
     "metadata": {},
     "output_type": "execute_result"
    }
   ],
   "source": [
    "df.word_count_headline.describe()"
   ]
  },
  {
   "cell_type": "markdown",
   "metadata": {},
   "source": [
    "#### Most common and uncommon words"
   ]
  },
  {
   "cell_type": "code",
   "execution_count": 15,
   "metadata": {},
   "outputs": [],
   "source": [
    "# Identify common words\n"
   ]
  }
 ],
 "metadata": {
  "kernelspec": {
   "display_name": "Python 3.10.4 ('NLP')",
   "language": "python",
   "name": "python3"
  },
  "language_info": {
   "codemirror_mode": {
    "name": "ipython",
    "version": 3
   },
   "file_extension": ".py",
   "mimetype": "text/x-python",
   "name": "python",
   "nbconvert_exporter": "python",
   "pygments_lexer": "ipython3",
   "version": "3.10.4"
  },
  "orig_nbformat": 4,
  "vscode": {
   "interpreter": {
    "hash": "b308425c1363782e5433040c69737be01249237cf93c313549cb11eaac821734"
   }
  }
 },
 "nbformat": 4,
 "nbformat_minor": 2
}
