{
 "cells": [
  {
   "cell_type": "code",
   "execution_count": 18,
   "metadata": {},
   "outputs": [],
   "source": [
    "import pandas as pd\n",
    "from os import listdir \n",
    "from os.path import isfile, join "
   ]
  },
  {
   "cell_type": "code",
   "execution_count": 19,
   "metadata": {},
   "outputs": [],
   "source": [
    "path = \"../Get Data/Data/all_news\""
   ]
  },
  {
   "cell_type": "code",
   "execution_count": 20,
   "metadata": {},
   "outputs": [],
   "source": [
    "files = [f for f in listdir(path) if isfile(join(path,f))]"
   ]
  },
  {
   "cell_type": "code",
   "execution_count": 21,
   "metadata": {},
   "outputs": [
    {
     "data": {
      "text/plain": [
       "['all_news_2022_10_08.csv',\n",
       " 'all_news_2022_10_09.csv',\n",
       " 'all_news_2022_10_10.csv',\n",
       " 'all_news_2022_10_11.csv']"
      ]
     },
     "execution_count": 21,
     "metadata": {},
     "output_type": "execute_result"
    }
   ],
   "source": [
    "files"
   ]
  },
  {
   "cell_type": "code",
   "execution_count": 22,
   "metadata": {},
   "outputs": [],
   "source": [
    "df = pd.DataFrame()"
   ]
  },
  {
   "cell_type": "code",
   "execution_count": 23,
   "metadata": {},
   "outputs": [],
   "source": [
    "for f in listdir(path):\n",
    "    # reading the file in dataframe\n",
    "    try:\n",
    "        temp_df = pd.read_csv(f\"{path}/{f}\",encoding=\"utf8\")\n",
    "    except UnicodeDecodeError:\n",
    "        temp_df = pd.read_csv(f\"{path}/{f}\",encoding=\"'windows-1252\")\n",
    "    \n",
    "    # adding a single file dataframe to the main dataframe\n",
    "    df = pd.concat([df,temp_df],axis=0)"
   ]
  },
  {
   "cell_type": "code",
   "execution_count": 24,
   "metadata": {},
   "outputs": [
    {
     "data": {
      "text/html": [
       "<div>\n",
       "<style scoped>\n",
       "    .dataframe tbody tr th:only-of-type {\n",
       "        vertical-align: middle;\n",
       "    }\n",
       "\n",
       "    .dataframe tbody tr th {\n",
       "        vertical-align: top;\n",
       "    }\n",
       "\n",
       "    .dataframe thead th {\n",
       "        text-align: right;\n",
       "    }\n",
       "</style>\n",
       "<table border=\"1\" class=\"dataframe\">\n",
       "  <thead>\n",
       "    <tr style=\"text-align: right;\">\n",
       "      <th></th>\n",
       "      <th>URLS</th>\n",
       "      <th>Headline</th>\n",
       "      <th>Article</th>\n",
       "    </tr>\n",
       "  </thead>\n",
       "  <tbody>\n",
       "    <tr>\n",
       "      <th>0</th>\n",
       "      <td>/business/economy/opinion/news/averting-fiscal...</td>\n",
       "      <td>Averting fiscal crises in a deteriorating glob...</td>\n",
       "      <td>The war in Ukraine and aftershocks from the Co...</td>\n",
       "    </tr>\n",
       "    <tr>\n",
       "      <th>1</th>\n",
       "      <td>/opinion/views/news/remembering-the-queens-leg...</td>\n",
       "      <td>In remembering the 'Queen's legacy', why do we...</td>\n",
       "      <td>When news broke of the death of Queen Elizabet...</td>\n",
       "    </tr>\n",
       "    <tr>\n",
       "      <th>2</th>\n",
       "      <td>/news/bangladesh/news/temple-idol-vandalised-j...</td>\n",
       "      <td>Temple idol vandalised in Jhenidah</td>\n",
       "      <td>Unidentified miscreants vandalised an idol of ...</td>\n",
       "    </tr>\n",
       "    <tr>\n",
       "      <th>3</th>\n",
       "      <td>/news/bangladesh/crime-justice/news/attack-bcl...</td>\n",
       "      <td>\"Attack on BCL men\": 24 Chhatra Odhikar Parish...</td>\n",
       "      <td>A Dhaka court has sent 24 leaders and activist...</td>\n",
       "    </tr>\n",
       "    <tr>\n",
       "      <th>4</th>\n",
       "      <td>/opinion/views/news/shanghai-cooperation-organ...</td>\n",
       "      <td>Shanghai Cooperation Organization Summit 2022:...</td>\n",
       "      <td>The Shanghai Cooperation Organization's (SCO) ...</td>\n",
       "    </tr>\n",
       "  </tbody>\n",
       "</table>\n",
       "</div>"
      ],
      "text/plain": [
       "                                                URLS  \\\n",
       "0  /business/economy/opinion/news/averting-fiscal...   \n",
       "1  /opinion/views/news/remembering-the-queens-leg...   \n",
       "2  /news/bangladesh/news/temple-idol-vandalised-j...   \n",
       "3  /news/bangladesh/crime-justice/news/attack-bcl...   \n",
       "4  /opinion/views/news/shanghai-cooperation-organ...   \n",
       "\n",
       "                                            Headline  \\\n",
       "0  Averting fiscal crises in a deteriorating glob...   \n",
       "1  In remembering the 'Queen's legacy', why do we...   \n",
       "2                 Temple idol vandalised in Jhenidah   \n",
       "3  \"Attack on BCL men\": 24 Chhatra Odhikar Parish...   \n",
       "4  Shanghai Cooperation Organization Summit 2022:...   \n",
       "\n",
       "                                             Article  \n",
       "0  The war in Ukraine and aftershocks from the Co...  \n",
       "1  When news broke of the death of Queen Elizabet...  \n",
       "2  Unidentified miscreants vandalised an idol of ...  \n",
       "3  A Dhaka court has sent 24 leaders and activist...  \n",
       "4  The Shanghai Cooperation Organization's (SCO) ...  "
      ]
     },
     "execution_count": 24,
     "metadata": {},
     "output_type": "execute_result"
    }
   ],
   "source": [
    "df.head()"
   ]
  },
  {
   "cell_type": "code",
   "execution_count": 25,
   "metadata": {},
   "outputs": [
    {
     "data": {
      "text/plain": [
       "(426, 3)"
      ]
     },
     "execution_count": 25,
     "metadata": {},
     "output_type": "execute_result"
    }
   ],
   "source": [
    "df.shape"
   ]
  }
 ],
 "metadata": {
  "kernelspec": {
   "display_name": "Python 3.10.4 ('NLP')",
   "language": "python",
   "name": "python3"
  },
  "language_info": {
   "codemirror_mode": {
    "name": "ipython",
    "version": 3
   },
   "file_extension": ".py",
   "mimetype": "text/x-python",
   "name": "python",
   "nbconvert_exporter": "python",
   "pygments_lexer": "ipython3",
   "version": "3.10.4"
  },
  "orig_nbformat": 4,
  "vscode": {
   "interpreter": {
    "hash": "b308425c1363782e5433040c69737be01249237cf93c313549cb11eaac821734"
   }
  }
 },
 "nbformat": 4,
 "nbformat_minor": 2
}
