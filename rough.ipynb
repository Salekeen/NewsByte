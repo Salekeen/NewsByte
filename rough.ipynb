{
 "cells": [
  {
   "cell_type": "code",
   "execution_count": 12,
   "metadata": {},
   "outputs": [],
   "source": [
    "import json"
   ]
  },
  {
   "cell_type": "code",
   "execution_count": 13,
   "metadata": {},
   "outputs": [],
   "source": [
    "text = \"This is amazing\"\n",
    "text2 = \"this is nice too\""
   ]
  },
  {
   "cell_type": "code",
   "execution_count": 15,
   "metadata": {},
   "outputs": [
    {
     "ename": "TypeError",
     "evalue": "unhashable type: 'dict'",
     "output_type": "error",
     "traceback": [
      "\u001b[1;31m---------------------------------------------------------------------------\u001b[0m",
      "\u001b[1;31mTypeError\u001b[0m                                 Traceback (most recent call last)",
      "\u001b[1;32me:\\ML\\NewsByte\\rough.ipynb Cell 3\u001b[0m in \u001b[0;36m<cell line: 3>\u001b[1;34m()\u001b[0m\n\u001b[1;32m----> <a href='vscode-notebook-cell:/e%3A/ML/NewsByte/rough.ipynb#W5sZmlsZQ%3D%3D?line=0'>1</a>\u001b[0m x \u001b[39m=\u001b[39m {\n\u001b[0;32m      <a href='vscode-notebook-cell:/e%3A/ML/NewsByte/rough.ipynb#W5sZmlsZQ%3D%3D?line=1'>2</a>\u001b[0m     {\n\u001b[0;32m      <a href='vscode-notebook-cell:/e%3A/ML/NewsByte/rough.ipynb#W5sZmlsZQ%3D%3D?line=2'>3</a>\u001b[0m         \u001b[39m\"\u001b[39m\u001b[39mheadline\u001b[39m\u001b[39m\"\u001b[39m : text,\n\u001b[0;32m      <a href='vscode-notebook-cell:/e%3A/ML/NewsByte/rough.ipynb#W5sZmlsZQ%3D%3D?line=3'>4</a>\u001b[0m         \u001b[39m\"\u001b[39m\u001b[39murl\u001b[39m\u001b[39m\"\u001b[39m: text2\n\u001b[0;32m      <a href='vscode-notebook-cell:/e%3A/ML/NewsByte/rough.ipynb#W5sZmlsZQ%3D%3D?line=4'>5</a>\u001b[0m     },\n\u001b[0;32m      <a href='vscode-notebook-cell:/e%3A/ML/NewsByte/rough.ipynb#W5sZmlsZQ%3D%3D?line=5'>6</a>\u001b[0m     {\n\u001b[0;32m      <a href='vscode-notebook-cell:/e%3A/ML/NewsByte/rough.ipynb#W5sZmlsZQ%3D%3D?line=6'>7</a>\u001b[0m         \u001b[39m\"\u001b[39m\u001b[39mheadline2\u001b[39m\u001b[39m\"\u001b[39m : text,\n\u001b[0;32m      <a href='vscode-notebook-cell:/e%3A/ML/NewsByte/rough.ipynb#W5sZmlsZQ%3D%3D?line=7'>8</a>\u001b[0m         \u001b[39m\"\u001b[39m\u001b[39murl2\u001b[39m\u001b[39m\"\u001b[39m: text2\n\u001b[0;32m      <a href='vscode-notebook-cell:/e%3A/ML/NewsByte/rough.ipynb#W5sZmlsZQ%3D%3D?line=8'>9</a>\u001b[0m     }\n\u001b[0;32m     <a href='vscode-notebook-cell:/e%3A/ML/NewsByte/rough.ipynb#W5sZmlsZQ%3D%3D?line=9'>10</a>\u001b[0m }\n",
      "\u001b[1;31mTypeError\u001b[0m: unhashable type: 'dict'"
     ]
    }
   ],
   "source": []
  },
  {
   "cell_type": "code",
   "execution_count": null,
   "metadata": {},
   "outputs": [],
   "source": [
    "y = json.dumps(x)"
   ]
  },
  {
   "cell_type": "code",
   "execution_count": null,
   "metadata": {},
   "outputs": [
    {
     "data": {
      "text/plain": [
       "'{\"headline\": \"This is amazing\", \"url\": \"this is nice too\"}'"
      ]
     },
     "execution_count": 11,
     "metadata": {},
     "output_type": "execute_result"
    }
   ],
   "source": [
    "y"
   ]
  },
  {
   "cell_type": "code",
   "execution_count": null,
   "metadata": {},
   "outputs": [],
   "source": []
  }
 ],
 "metadata": {
  "kernelspec": {
   "display_name": "Python 3.10.4 ('NewsByte')",
   "language": "python",
   "name": "python3"
  },
  "language_info": {
   "codemirror_mode": {
    "name": "ipython",
    "version": 3
   },
   "file_extension": ".py",
   "mimetype": "text/x-python",
   "name": "python",
   "nbconvert_exporter": "python",
   "pygments_lexer": "ipython3",
   "version": "3.10.4"
  },
  "orig_nbformat": 4,
  "vscode": {
   "interpreter": {
    "hash": "96e0c1111daa90e2ae5b4b63370de4dbd6986dcaf1e4ae703e4c8a3dae8b004c"
   }
  }
 },
 "nbformat": 4,
 "nbformat_minor": 2
}
