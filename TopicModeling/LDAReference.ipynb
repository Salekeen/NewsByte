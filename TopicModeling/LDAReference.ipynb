{
 "cells": [
  {
   "cell_type": "code",
   "execution_count": 79,
   "metadata": {},
   "outputs": [],
   "source": [
    "import pandas as pd"
   ]
  },
  {
   "cell_type": "code",
   "execution_count": 80,
   "metadata": {},
   "outputs": [
    {
     "name": "stderr",
     "output_type": "stream",
     "text": [
      "C:\\Program Files\\KMSpico\\temp\\ipykernel_10248\\338514806.py:1: FutureWarning: The error_bad_lines argument has been deprecated and will be removed in a future version. Use on_bad_lines in the future.\n",
      "\n",
      "\n",
      "  data = pd.read_csv('./abcnews-date-text.csv',error_bad_lines=False)\n"
     ]
    }
   ],
   "source": [
    "data = pd.read_csv('./abcnews-date-text.csv',error_bad_lines=False)"
   ]
  },
  {
   "cell_type": "code",
   "execution_count": 81,
   "metadata": {},
   "outputs": [
    {
     "data": {
      "text/plain": [
       "Index(['publish_date', 'headline_text'], dtype='object')"
      ]
     },
     "execution_count": 81,
     "metadata": {},
     "output_type": "execute_result"
    }
   ],
   "source": [
    "data.columns"
   ]
  },
  {
   "cell_type": "code",
   "execution_count": 82,
   "metadata": {},
   "outputs": [
    {
     "data": {
      "text/plain": [
       "0    aba decides against community broadcasting lic...\n",
       "1       act fire witnesses must be aware of defamation\n",
       "2       a g calls for infrastructure protection summit\n",
       "3             air nz staff in aust strike for pay rise\n",
       "4        air nz strike to affect australian travellers\n",
       "Name: headline_text, dtype: object"
      ]
     },
     "execution_count": 82,
     "metadata": {},
     "output_type": "execute_result"
    }
   ],
   "source": [
    "data['headline_text'].head(5)"
   ]
  },
  {
   "cell_type": "code",
   "execution_count": 83,
   "metadata": {},
   "outputs": [],
   "source": [
    "data_text = data[['headline_text']] # makes it a dataframe"
   ]
  },
  {
   "cell_type": "code",
   "execution_count": 84,
   "metadata": {},
   "outputs": [
    {
     "data": {
      "text/plain": [
       "pandas.core.frame.DataFrame"
      ]
     },
     "execution_count": 84,
     "metadata": {},
     "output_type": "execute_result"
    }
   ],
   "source": [
    "type(data_text)"
   ]
  },
  {
   "cell_type": "code",
   "execution_count": 85,
   "metadata": {},
   "outputs": [
    {
     "data": {
      "text/html": [
       "<div>\n",
       "<style scoped>\n",
       "    .dataframe tbody tr th:only-of-type {\n",
       "        vertical-align: middle;\n",
       "    }\n",
       "\n",
       "    .dataframe tbody tr th {\n",
       "        vertical-align: top;\n",
       "    }\n",
       "\n",
       "    .dataframe thead th {\n",
       "        text-align: right;\n",
       "    }\n",
       "</style>\n",
       "<table border=\"1\" class=\"dataframe\">\n",
       "  <thead>\n",
       "    <tr style=\"text-align: right;\">\n",
       "      <th></th>\n",
       "      <th>headline_text</th>\n",
       "    </tr>\n",
       "  </thead>\n",
       "  <tbody>\n",
       "    <tr>\n",
       "      <th>0</th>\n",
       "      <td>aba decides against community broadcasting lic...</td>\n",
       "    </tr>\n",
       "    <tr>\n",
       "      <th>1</th>\n",
       "      <td>act fire witnesses must be aware of defamation</td>\n",
       "    </tr>\n",
       "    <tr>\n",
       "      <th>2</th>\n",
       "      <td>a g calls for infrastructure protection summit</td>\n",
       "    </tr>\n",
       "    <tr>\n",
       "      <th>3</th>\n",
       "      <td>air nz staff in aust strike for pay rise</td>\n",
       "    </tr>\n",
       "    <tr>\n",
       "      <th>4</th>\n",
       "      <td>air nz strike to affect australian travellers</td>\n",
       "    </tr>\n",
       "    <tr>\n",
       "      <th>...</th>\n",
       "      <td>...</td>\n",
       "    </tr>\n",
       "    <tr>\n",
       "      <th>1244179</th>\n",
       "      <td>two aged care residents die as state records 2...</td>\n",
       "    </tr>\n",
       "    <tr>\n",
       "      <th>1244180</th>\n",
       "      <td>victoria records 5;919 new cases and seven deaths</td>\n",
       "    </tr>\n",
       "    <tr>\n",
       "      <th>1244181</th>\n",
       "      <td>wa delays adopting new close contact definition</td>\n",
       "    </tr>\n",
       "    <tr>\n",
       "      <th>1244182</th>\n",
       "      <td>western ringtail possums found badly dehydrate...</td>\n",
       "    </tr>\n",
       "    <tr>\n",
       "      <th>1244183</th>\n",
       "      <td>what makes you a close covid contact here are ...</td>\n",
       "    </tr>\n",
       "  </tbody>\n",
       "</table>\n",
       "<p>1244184 rows × 1 columns</p>\n",
       "</div>"
      ],
      "text/plain": [
       "                                             headline_text\n",
       "0        aba decides against community broadcasting lic...\n",
       "1           act fire witnesses must be aware of defamation\n",
       "2           a g calls for infrastructure protection summit\n",
       "3                 air nz staff in aust strike for pay rise\n",
       "4            air nz strike to affect australian travellers\n",
       "...                                                    ...\n",
       "1244179  two aged care residents die as state records 2...\n",
       "1244180  victoria records 5;919 new cases and seven deaths\n",
       "1244181    wa delays adopting new close contact definition\n",
       "1244182  western ringtail possums found badly dehydrate...\n",
       "1244183  what makes you a close covid contact here are ...\n",
       "\n",
       "[1244184 rows x 1 columns]"
      ]
     },
     "execution_count": 85,
     "metadata": {},
     "output_type": "execute_result"
    }
   ],
   "source": [
    "data_text"
   ]
  },
  {
   "cell_type": "code",
   "execution_count": 86,
   "metadata": {},
   "outputs": [
    {
     "data": {
      "text/plain": [
       "RangeIndex(start=0, stop=1244184, step=1)"
      ]
     },
     "execution_count": 86,
     "metadata": {},
     "output_type": "execute_result"
    }
   ],
   "source": [
    "data_text.index"
   ]
  },
  {
   "cell_type": "code",
   "execution_count": 87,
   "metadata": {},
   "outputs": [],
   "source": [
    "data_text['index'] = data_text.index"
   ]
  },
  {
   "cell_type": "code",
   "execution_count": 88,
   "metadata": {},
   "outputs": [
    {
     "data": {
      "text/html": [
       "<div>\n",
       "<style scoped>\n",
       "    .dataframe tbody tr th:only-of-type {\n",
       "        vertical-align: middle;\n",
       "    }\n",
       "\n",
       "    .dataframe tbody tr th {\n",
       "        vertical-align: top;\n",
       "    }\n",
       "\n",
       "    .dataframe thead th {\n",
       "        text-align: right;\n",
       "    }\n",
       "</style>\n",
       "<table border=\"1\" class=\"dataframe\">\n",
       "  <thead>\n",
       "    <tr style=\"text-align: right;\">\n",
       "      <th></th>\n",
       "      <th>headline_text</th>\n",
       "      <th>index</th>\n",
       "    </tr>\n",
       "  </thead>\n",
       "  <tbody>\n",
       "    <tr>\n",
       "      <th>0</th>\n",
       "      <td>aba decides against community broadcasting lic...</td>\n",
       "      <td>0</td>\n",
       "    </tr>\n",
       "    <tr>\n",
       "      <th>1</th>\n",
       "      <td>act fire witnesses must be aware of defamation</td>\n",
       "      <td>1</td>\n",
       "    </tr>\n",
       "    <tr>\n",
       "      <th>2</th>\n",
       "      <td>a g calls for infrastructure protection summit</td>\n",
       "      <td>2</td>\n",
       "    </tr>\n",
       "    <tr>\n",
       "      <th>3</th>\n",
       "      <td>air nz staff in aust strike for pay rise</td>\n",
       "      <td>3</td>\n",
       "    </tr>\n",
       "    <tr>\n",
       "      <th>4</th>\n",
       "      <td>air nz strike to affect australian travellers</td>\n",
       "      <td>4</td>\n",
       "    </tr>\n",
       "    <tr>\n",
       "      <th>...</th>\n",
       "      <td>...</td>\n",
       "      <td>...</td>\n",
       "    </tr>\n",
       "    <tr>\n",
       "      <th>1244179</th>\n",
       "      <td>two aged care residents die as state records 2...</td>\n",
       "      <td>1244179</td>\n",
       "    </tr>\n",
       "    <tr>\n",
       "      <th>1244180</th>\n",
       "      <td>victoria records 5;919 new cases and seven deaths</td>\n",
       "      <td>1244180</td>\n",
       "    </tr>\n",
       "    <tr>\n",
       "      <th>1244181</th>\n",
       "      <td>wa delays adopting new close contact definition</td>\n",
       "      <td>1244181</td>\n",
       "    </tr>\n",
       "    <tr>\n",
       "      <th>1244182</th>\n",
       "      <td>western ringtail possums found badly dehydrate...</td>\n",
       "      <td>1244182</td>\n",
       "    </tr>\n",
       "    <tr>\n",
       "      <th>1244183</th>\n",
       "      <td>what makes you a close covid contact here are ...</td>\n",
       "      <td>1244183</td>\n",
       "    </tr>\n",
       "  </tbody>\n",
       "</table>\n",
       "<p>1244184 rows × 2 columns</p>\n",
       "</div>"
      ],
      "text/plain": [
       "                                             headline_text    index\n",
       "0        aba decides against community broadcasting lic...        0\n",
       "1           act fire witnesses must be aware of defamation        1\n",
       "2           a g calls for infrastructure protection summit        2\n",
       "3                 air nz staff in aust strike for pay rise        3\n",
       "4            air nz strike to affect australian travellers        4\n",
       "...                                                    ...      ...\n",
       "1244179  two aged care residents die as state records 2...  1244179\n",
       "1244180  victoria records 5;919 new cases and seven deaths  1244180\n",
       "1244181    wa delays adopting new close contact definition  1244181\n",
       "1244182  western ringtail possums found badly dehydrate...  1244182\n",
       "1244183  what makes you a close covid contact here are ...  1244183\n",
       "\n",
       "[1244184 rows x 2 columns]"
      ]
     },
     "execution_count": 88,
     "metadata": {},
     "output_type": "execute_result"
    }
   ],
   "source": [
    "data_text"
   ]
  },
  {
   "cell_type": "code",
   "execution_count": 89,
   "metadata": {},
   "outputs": [],
   "source": [
    "documents = data_text"
   ]
  },
  {
   "cell_type": "markdown",
   "metadata": {},
   "source": [
    "### Data Preprocessing"
   ]
  },
  {
   "cell_type": "code",
   "execution_count": 90,
   "metadata": {},
   "outputs": [
    {
     "name": "stderr",
     "output_type": "stream",
     "text": [
      "[nltk_data] Downloading package wordnet to\n",
      "[nltk_data]     C:\\Users\\User\\AppData\\Roaming\\nltk_data...\n",
      "[nltk_data]   Package wordnet is already up-to-date!\n"
     ]
    },
    {
     "data": {
      "text/plain": [
       "True"
      ]
     },
     "execution_count": 90,
     "metadata": {},
     "output_type": "execute_result"
    }
   ],
   "source": [
    "import gensim\n",
    "from gensim.utils import simple_preprocess\n",
    "from gensim.parsing.preprocessing import STOPWORDS\n",
    "from nltk.stem import WordNetLemmatizer, SnowballStemmer\n",
    "from nltk.stem.porter import *\n",
    "import numpy as np \n",
    "np.random.seed(42)\n",
    "\n",
    "import nltk\n",
    "nltk.download('wordnet')"
   ]
  },
  {
   "cell_type": "code",
   "execution_count": 91,
   "metadata": {},
   "outputs": [],
   "source": [
    "def lemmatize_stemming(text):\n",
    "    p = PorterStemmer()\n",
    "    return p.stem(WordNetLemmatizer().lemmatize(text, pos='v'))"
   ]
  },
  {
   "cell_type": "code",
   "execution_count": 92,
   "metadata": {},
   "outputs": [],
   "source": [
    "def preprocess(text):\n",
    "    result = []\n",
    "    for token in gensim.utils.simple_preprocess(text):\n",
    "        if token not in gensim.parsing.preprocessing.STOPWORDS and \\\n",
    "            len(token)>3:\n",
    "            result.append(lemmatize_stemming(token))\n",
    "    return result"
   ]
  },
  {
   "cell_type": "markdown",
   "metadata": {},
   "source": [
    "Lets see it works or not in one sample"
   ]
  },
  {
   "cell_type": "code",
   "execution_count": 93,
   "metadata": {},
   "outputs": [],
   "source": [
    "doc_sample = documents[documents['index']==4310].values[0][0]"
   ]
  },
  {
   "cell_type": "code",
   "execution_count": 94,
   "metadata": {},
   "outputs": [
    {
     "data": {
      "text/plain": [
       "'ratepayers group wants compulsory local govt voting'"
      ]
     },
     "execution_count": 94,
     "metadata": {},
     "output_type": "execute_result"
    }
   ],
   "source": [
    "doc_sample"
   ]
  },
  {
   "cell_type": "code",
   "execution_count": 95,
   "metadata": {},
   "outputs": [
    {
     "name": "stdout",
     "output_type": "stream",
     "text": [
      "original document: \n",
      "['ratepayers', 'group', 'wants', 'compulsory', 'local', 'govt', 'voting']\n"
     ]
    }
   ],
   "source": [
    "print('original document: ')\n",
    "words = []\n",
    "for word in doc_sample.split(' '):\n",
    "    words.append(word)\n",
    "\n",
    "print(words)"
   ]
  },
  {
   "cell_type": "code",
   "execution_count": 96,
   "metadata": {},
   "outputs": [
    {
     "data": {
      "text/plain": [
       "['ratepay', 'group', 'want', 'compulsori', 'local', 'govt', 'vote']"
      ]
     },
     "execution_count": 96,
     "metadata": {},
     "output_type": "execute_result"
    }
   ],
   "source": [
    "# after preprocessing\n",
    "preprocess(doc_sample)"
   ]
  },
  {
   "cell_type": "markdown",
   "metadata": {},
   "source": [
    "Lets now preprocess the whole documents"
   ]
  },
  {
   "cell_type": "code",
   "execution_count": 97,
   "metadata": {},
   "outputs": [],
   "source": [
    "processed_docs = documents['headline_text'].map(preprocess)"
   ]
  },
  {
   "cell_type": "markdown",
   "metadata": {},
   "source": [
    "#### Bag of Words on the Data Set"
   ]
  },
  {
   "cell_type": "code",
   "execution_count": 98,
   "metadata": {},
   "outputs": [],
   "source": [
    "dictionary = gensim.corpora.Dictionary(processed_docs)"
   ]
  },
  {
   "cell_type": "code",
   "execution_count": 99,
   "metadata": {},
   "outputs": [
    {
     "data": {
      "text/plain": [
       "70293"
      ]
     },
     "execution_count": 99,
     "metadata": {},
     "output_type": "execute_result"
    }
   ],
   "source": [
    "len(dictionary)"
   ]
  },
  {
   "cell_type": "code",
   "execution_count": 100,
   "metadata": {},
   "outputs": [
    {
     "name": "stdout",
     "output_type": "stream",
     "text": [
      "0 broadcast\n",
      "1 commun\n",
      "2 decid\n",
      "3 licenc\n",
      "4 awar\n",
      "5 defam\n",
      "6 wit\n",
      "7 call\n",
      "8 infrastructur\n",
      "9 protect\n",
      "10 summit\n"
     ]
    }
   ],
   "source": [
    "count = 0\n",
    "for k,v in dictionary.iteritems():\n",
    "    print(k,v)\n",
    "    count+=1\n",
    "    if count >10:\n",
    "        break "
   ]
  },
  {
   "cell_type": "markdown",
   "metadata": {},
   "source": [
    "Filter out tokens in the dictionary by their frequency."
   ]
  },
  {
   "cell_type": "code",
   "execution_count": 101,
   "metadata": {},
   "outputs": [],
   "source": [
    "dictionary.filter_extremes(no_below=15,no_above=0.5,keep_n=100000)"
   ]
  },
  {
   "cell_type": "markdown",
   "metadata": {},
   "source": [
    "#### Gensim doc2bow"
   ]
  },
  {
   "cell_type": "code",
   "execution_count": 102,
   "metadata": {},
   "outputs": [
    {
     "data": {
      "text/plain": [
       "0                         [decid, commun, broadcast, licenc]\n",
       "1                                         [wit, awar, defam]\n",
       "2                     [call, infrastructur, protect, summit]\n",
       "3                                [staff, aust, strike, rise]\n",
       "4                       [strike, affect, australian, travel]\n",
       "                                 ...                        \n",
       "1244179                    [age, care, resid, state, record]\n",
       "1244180               [victoria, record, case, seven, death]\n",
       "1244181              [delay, adopt, close, contact, definit]\n",
       "1244182    [western, ringtail, possum, badli, dehydr, hea...\n",
       "1244183                  [make, close, covid, contact, rule]\n",
       "Name: headline_text, Length: 1244184, dtype: object"
      ]
     },
     "execution_count": 102,
     "metadata": {},
     "output_type": "execute_result"
    }
   ],
   "source": [
    "processed_docs"
   ]
  },
  {
   "cell_type": "code",
   "execution_count": 103,
   "metadata": {},
   "outputs": [],
   "source": [
    "bow_corpus = [dictionary.doc2bow(doc) for doc in processed_docs]"
   ]
  },
  {
   "cell_type": "code",
   "execution_count": 104,
   "metadata": {},
   "outputs": [
    {
     "data": {
      "text/plain": [
       "[(162, 1), (240, 1), (292, 1), (589, 1), (839, 1), (3579, 1), (3580, 1)]"
      ]
     },
     "execution_count": 104,
     "metadata": {},
     "output_type": "execute_result"
    }
   ],
   "source": [
    "bow_corpus[4310]"
   ]
  },
  {
   "cell_type": "markdown",
   "metadata": {},
   "source": [
    "#### TF-IDF"
   ]
  },
  {
   "cell_type": "code",
   "execution_count": 105,
   "metadata": {},
   "outputs": [],
   "source": [
    "from gensim import corpora,models"
   ]
  },
  {
   "cell_type": "code",
   "execution_count": 106,
   "metadata": {},
   "outputs": [],
   "source": [
    "tfidf = models.TfidfModel(bow_corpus) #fit the model"
   ]
  },
  {
   "cell_type": "code",
   "execution_count": 107,
   "metadata": {},
   "outputs": [
    {
     "data": {
      "text/plain": [
       "gensim.models.tfidfmodel.TfidfModel"
      ]
     },
     "execution_count": 107,
     "metadata": {},
     "output_type": "execute_result"
    }
   ],
   "source": [
    "type(tfidf)"
   ]
  },
  {
   "cell_type": "code",
   "execution_count": 108,
   "metadata": {},
   "outputs": [],
   "source": [
    "corpus_tfidf = tfidf[bow_corpus] # apply model to the corpus"
   ]
  },
  {
   "cell_type": "code",
   "execution_count": 109,
   "metadata": {},
   "outputs": [
    {
     "data": {
      "text/plain": [
       "[(14, 0.47235494692269364),\n",
       " (15, 0.5715156253616932),\n",
       " (16, 0.38223210042906264),\n",
       " (17, 0.5514973395100641)]"
      ]
     },
     "execution_count": 109,
     "metadata": {},
     "output_type": "execute_result"
    }
   ],
   "source": [
    "corpus_tfidf[4]"
   ]
  },
  {
   "cell_type": "markdown",
   "metadata": {},
   "source": [
    "#### Running LDA using Bag of Words"
   ]
  },
  {
   "cell_type": "code",
   "execution_count": 110,
   "metadata": {},
   "outputs": [],
   "source": [
    "lda_model = gensim.models.LdaMulticore(\n",
    "    bow_corpus,\n",
    "    num_topics = 10,\n",
    "    id2word = dictionary,\n",
    "    passes = 2,\n",
    ")"
   ]
  },
  {
   "cell_type": "markdown",
   "metadata": {},
   "source": [
    "Lets visualize our topics"
   ]
  },
  {
   "cell_type": "code",
   "execution_count": 111,
   "metadata": {},
   "outputs": [
    {
     "name": "stdout",
     "output_type": "stream",
     "text": [
      "Topic: 0 \n",
      "Words: 0.015*\"rural\" + 0.015*\"news\" + 0.015*\"farmer\" + 0.013*\"price\" + 0.010*\"nation\" + 0.010*\"busi\" + 0.009*\"labor\" + 0.007*\"rise\" + 0.007*\"liber\" + 0.007*\"drive\"\n",
      "Topic: 1 \n",
      "Words: 0.014*\"live\" + 0.014*\"chang\" + 0.011*\"centr\" + 0.011*\"group\" + 0.011*\"australia\" + 0.010*\"coronaviru\" + 0.010*\"work\" + 0.010*\"forc\" + 0.009*\"covid\" + 0.008*\"commun\"\n",
      "Topic: 2 \n",
      "Words: 0.018*\"world\" + 0.015*\"south\" + 0.015*\"australia\" + 0.011*\"market\" + 0.010*\"australian\" + 0.009*\"die\" + 0.009*\"donald\" + 0.009*\"lead\" + 0.009*\"hold\" + 0.008*\"record\"\n",
      "Topic: 3 \n",
      "Words: 0.022*\"plan\" + 0.022*\"council\" + 0.015*\"govern\" + 0.010*\"road\" + 0.009*\"elect\" + 0.009*\"indigen\" + 0.008*\"fund\" + 0.007*\"feder\" + 0.007*\"tasmania\" + 0.006*\"reveal\"\n",
      "Topic: 4 \n",
      "Words: 0.022*\"health\" + 0.018*\"hospit\" + 0.015*\"countri\" + 0.015*\"protest\" + 0.013*\"coronaviru\" + 0.013*\"urg\" + 0.012*\"flood\" + 0.010*\"hour\" + 0.010*\"covid\" + 0.009*\"budget\"\n",
      "Topic: 5 \n",
      "Words: 0.032*\"interview\" + 0.016*\"coast\" + 0.015*\"school\" + 0.014*\"driver\" + 0.014*\"fall\" + 0.013*\"investig\" + 0.012*\"gold\" + 0.012*\"student\" + 0.008*\"andrew\" + 0.008*\"award\"\n",
      "Topic: 6 \n",
      "Words: 0.017*\"adelaid\" + 0.015*\"say\" + 0.014*\"deal\" + 0.012*\"speak\" + 0.011*\"break\" + 0.010*\"worker\" + 0.010*\"hill\" + 0.009*\"violenc\" + 0.008*\"sign\" + 0.008*\"go\"\n",
      "Topic: 7 \n",
      "Words: 0.043*\"polic\" + 0.018*\"north\" + 0.016*\"crash\" + 0.016*\"drug\" + 0.016*\"concern\" + 0.013*\"attack\" + 0.013*\"hous\" + 0.011*\"jail\" + 0.011*\"child\" + 0.011*\"arrest\"\n",
      "Topic: 8 \n",
      "Words: 0.028*\"charg\" + 0.020*\"trump\" + 0.018*\"woman\" + 0.017*\"murder\" + 0.017*\"miss\" + 0.016*\"polic\" + 0.011*\"assault\" + 0.010*\"search\" + 0.010*\"guilti\" + 0.009*\"death\"\n",
      "Topic: 9 \n",
      "Words: 0.021*\"sydney\" + 0.019*\"kill\" + 0.017*\"china\" + 0.015*\"trial\" + 0.012*\"australia\" + 0.012*\"court\" + 0.010*\"lose\" + 0.010*\"case\" + 0.009*\"hear\" + 0.008*\"dead\"\n"
     ]
    }
   ],
   "source": [
    "for idx,topic in lda_model.print_topics(-1):\n",
    "    print('Topic: {} \\nWords: {}'.format(idx, topic))"
   ]
  },
  {
   "cell_type": "markdown",
   "metadata": {},
   "source": [
    "#### LDA with TF-IDF"
   ]
  },
  {
   "cell_type": "code",
   "execution_count": 113,
   "metadata": {},
   "outputs": [],
   "source": [
    "lda_model_tfidf = gensim.models.LdaMulticore(\n",
    "    corpus_tfidf,\n",
    "    num_topics = 10,\n",
    "    id2word = dictionary,\n",
    "    passes = 2\n",
    ")"
   ]
  },
  {
   "cell_type": "markdown",
   "metadata": {},
   "source": [
    "Lets evaluate"
   ]
  },
  {
   "cell_type": "code",
   "execution_count": null,
   "metadata": {},
   "outputs": [
    {
     "data": {
      "text/plain": [
       "['ratepay', 'group', 'want', 'compulsori', 'local', 'govt', 'vote']"
      ]
     },
     "execution_count": 35,
     "metadata": {},
     "output_type": "execute_result"
    }
   ],
   "source": [
    "processed_docs[4310]"
   ]
  },
  {
   "cell_type": "code",
   "execution_count": null,
   "metadata": {},
   "outputs": [
    {
     "name": "stdout",
     "output_type": "stream",
     "text": [
      "\n",
      "Score: 0.5960084199905396\t \n",
      "Topic: 0.022*\"plan\" + 0.021*\"council\" + 0.015*\"govern\" + 0.010*\"road\" + 0.009*\"elect\" + 0.009*\"indigen\" + 0.008*\"fund\" + 0.007*\"tasmania\" + 0.007*\"feder\" + 0.006*\"reveal\"\n",
      "\n",
      "Score: 0.30389174818992615\t \n",
      "Topic: 0.014*\"live\" + 0.014*\"chang\" + 0.012*\"coronaviru\" + 0.011*\"australia\" + 0.011*\"centr\" + 0.011*\"group\" + 0.010*\"work\" + 0.010*\"forc\" + 0.009*\"covid\" + 0.009*\"commun\"\n",
      "\n",
      "Score: 0.012519883923232555\t \n",
      "Topic: 0.017*\"world\" + 0.015*\"south\" + 0.015*\"australia\" + 0.011*\"market\" + 0.010*\"australian\" + 0.009*\"record\" + 0.009*\"die\" + 0.009*\"lead\" + 0.009*\"donald\" + 0.009*\"hold\"\n",
      "\n",
      "Score: 0.012512230314314365\t \n",
      "Topic: 0.015*\"rural\" + 0.015*\"farmer\" + 0.015*\"news\" + 0.013*\"price\" + 0.010*\"nation\" + 0.010*\"busi\" + 0.008*\"labor\" + 0.007*\"rise\" + 0.007*\"drive\" + 0.007*\"liber\"\n",
      "\n",
      "Score: 0.012511689215898514\t \n",
      "Topic: 0.022*\"health\" + 0.018*\"hospit\" + 0.015*\"countri\" + 0.015*\"protest\" + 0.013*\"coronaviru\" + 0.013*\"urg\" + 0.012*\"flood\" + 0.010*\"hour\" + 0.010*\"covid\" + 0.009*\"budget\"\n",
      "\n",
      "Score: 0.012511440552771091\t \n",
      "Topic: 0.017*\"adelaid\" + 0.015*\"say\" + 0.014*\"deal\" + 0.013*\"speak\" + 0.011*\"break\" + 0.009*\"hill\" + 0.009*\"worker\" + 0.008*\"violenc\" + 0.008*\"sign\" + 0.008*\"go\"\n",
      "\n",
      "Score: 0.012511332519352436\t \n",
      "Topic: 0.021*\"sydney\" + 0.019*\"kill\" + 0.017*\"china\" + 0.015*\"trial\" + 0.012*\"australia\" + 0.012*\"court\" + 0.011*\"case\" + 0.010*\"lose\" + 0.009*\"hear\" + 0.008*\"death\"\n",
      "\n",
      "Score: 0.012511314824223518\t \n",
      "Topic: 0.043*\"polic\" + 0.018*\"north\" + 0.016*\"crash\" + 0.016*\"drug\" + 0.016*\"concern\" + 0.013*\"attack\" + 0.012*\"hous\" + 0.011*\"jail\" + 0.011*\"child\" + 0.011*\"arrest\"\n",
      "\n",
      "Score: 0.012511000037193298\t \n",
      "Topic: 0.032*\"interview\" + 0.015*\"coast\" + 0.015*\"school\" + 0.014*\"driver\" + 0.014*\"fall\" + 0.013*\"investig\" + 0.012*\"gold\" + 0.012*\"student\" + 0.008*\"andrew\" + 0.008*\"award\"\n",
      "\n",
      "Score: 0.012510950677096844\t \n",
      "Topic: 0.028*\"charg\" + 0.020*\"trump\" + 0.018*\"woman\" + 0.017*\"murder\" + 0.017*\"miss\" + 0.016*\"polic\" + 0.011*\"assault\" + 0.010*\"search\" + 0.010*\"guilti\" + 0.009*\"death\"\n"
     ]
    }
   ],
   "source": [
    "for index,score in sorted(lda_model[bow_corpus[4310]],key=lambda tup: -1*tup[1]):\n",
    "    print(\"\\nScore: {}\\t \\nTopic: {}\".format(score, lda_model.print_topic(index, 10)))"
   ]
  },
  {
   "cell_type": "code",
   "execution_count": null,
   "metadata": {},
   "outputs": [
    {
     "name": "stdout",
     "output_type": "stream",
     "text": [
      "Score: 0.3444737493991852\t Topic: 0.028*\"charg\" + 0.020*\"trump\" + 0.018*\"woman\" + 0.017*\"murder\" + 0.017*\"miss\"\n",
      "Score: 0.21066319942474365\t Topic: 0.017*\"adelaid\" + 0.015*\"say\" + 0.014*\"deal\" + 0.013*\"speak\" + 0.011*\"break\"\n",
      "Score: 0.1808459758758545\t Topic: 0.021*\"sydney\" + 0.019*\"kill\" + 0.017*\"china\" + 0.015*\"trial\" + 0.012*\"australia\"\n",
      "Score: 0.16391858458518982\t Topic: 0.022*\"health\" + 0.018*\"hospit\" + 0.015*\"countri\" + 0.015*\"protest\" + 0.013*\"coronaviru\"\n",
      "Score: 0.01668521761894226\t Topic: 0.043*\"polic\" + 0.018*\"north\" + 0.016*\"crash\" + 0.016*\"drug\" + 0.016*\"concern\"\n",
      "Score: 0.01668384112417698\t Topic: 0.015*\"rural\" + 0.015*\"farmer\" + 0.015*\"news\" + 0.013*\"price\" + 0.010*\"nation\"\n",
      "Score: 0.016683178022503853\t Topic: 0.014*\"live\" + 0.014*\"chang\" + 0.012*\"coronaviru\" + 0.011*\"australia\" + 0.011*\"centr\"\n",
      "Score: 0.01668296754360199\t Topic: 0.022*\"plan\" + 0.021*\"council\" + 0.015*\"govern\" + 0.010*\"road\" + 0.009*\"elect\"\n",
      "Score: 0.016682008281350136\t Topic: 0.032*\"interview\" + 0.015*\"coast\" + 0.015*\"school\" + 0.014*\"driver\" + 0.014*\"fall\"\n",
      "Score: 0.01668132096529007\t Topic: 0.017*\"world\" + 0.015*\"south\" + 0.015*\"australia\" + 0.011*\"market\" + 0.010*\"australian\"\n"
     ]
    }
   ],
   "source": [
    "unseen_document = 'How a Pentagon deal became an identity crisis for Google'\n",
    "\n",
    "bow_vector = dictionary.doc2bow(preprocess(unseen_document))\n",
    "\n",
    "for index, score in sorted(lda_model[bow_vector], key=lambda tup: -1*tup[1]):\n",
    "    print(\"Score: {}\\t Topic: {}\".format(\n",
    "        score, lda_model.print_topic(index, 5)))\n"
   ]
  }
 ],
 "metadata": {
  "kernelspec": {
   "display_name": "Python 3.10.4 ('NLP')",
   "language": "python",
   "name": "python3"
  },
  "language_info": {
   "codemirror_mode": {
    "name": "ipython",
    "version": 3
   },
   "file_extension": ".py",
   "mimetype": "text/x-python",
   "name": "python",
   "nbconvert_exporter": "python",
   "pygments_lexer": "ipython3",
   "version": "3.10.4"
  },
  "orig_nbformat": 4,
  "vscode": {
   "interpreter": {
    "hash": "b308425c1363782e5433040c69737be01249237cf93c313549cb11eaac821734"
   }
  }
 },
 "nbformat": 4,
 "nbformat_minor": 2
}
