{
 "cells": [
  {
   "cell_type": "code",
   "execution_count": 2,
   "metadata": {},
   "outputs": [],
   "source": [
    "import pandas as pd\n",
    "import gensim\n",
    "import nltk\n",
    "from gensim.utils import simple_preprocess\n",
    "from gensim import corpora,models\n",
    "from gensim.parsing.preprocessing import STOPWORDS\n",
    "from nltk.stem import WordNetLemmatizer, SnowballStemmer\n",
    "from nltk.stem.porter import *\n",
    "import numpy as np \n",
    "np.random.seed(42)"
   ]
  },
  {
   "cell_type": "code",
   "execution_count": 4,
   "metadata": {},
   "outputs": [],
   "source": [
    "# importing the data\n",
    "data = pd.read_csv('../Get Data/Data/all_news/all_news_2022_10_10.csv')"
   ]
  },
  {
   "cell_type": "code",
   "execution_count": 5,
   "metadata": {},
   "outputs": [
    {
     "data": {
      "text/html": [
       "<div>\n",
       "<style scoped>\n",
       "    .dataframe tbody tr th:only-of-type {\n",
       "        vertical-align: middle;\n",
       "    }\n",
       "\n",
       "    .dataframe tbody tr th {\n",
       "        vertical-align: top;\n",
       "    }\n",
       "\n",
       "    .dataframe thead th {\n",
       "        text-align: right;\n",
       "    }\n",
       "</style>\n",
       "<table border=\"1\" class=\"dataframe\">\n",
       "  <thead>\n",
       "    <tr style=\"text-align: right;\">\n",
       "      <th></th>\n",
       "      <th>URLS</th>\n",
       "      <th>Headline</th>\n",
       "      <th>Article</th>\n",
       "    </tr>\n",
       "  </thead>\n",
       "  <tbody>\n",
       "    <tr>\n",
       "      <th>0</th>\n",
       "      <td>/business/news/banks-asked-verify-global-commo...</td>\n",
       "      <td>Banks asked to verify global commodity prices ...</td>\n",
       "      <td>The Bangladesh Bank today asked banks to verif...</td>\n",
       "    </tr>\n",
       "    <tr>\n",
       "      <th>1</th>\n",
       "      <td>/sports/football/news/cavallo-criticises-casil...</td>\n",
       "      <td>Cavallo criticises Casillas for deleted 'I'm g...</td>\n",
       "      <td>Australia's first openly gay footballer, Josh ...</td>\n",
       "    </tr>\n",
       "    <tr>\n",
       "      <th>2</th>\n",
       "      <td>/business/news/city-bank-launches-islamic-dps-...</td>\n",
       "      <td>City Bank launches Islamic DPS savings with bKash</td>\n",
       "      <td>City Bank launched its first-ever Shariah-base...</td>\n",
       "    </tr>\n",
       "    <tr>\n",
       "      <th>3</th>\n",
       "      <td>/entertainment/music/news/kanye-wests-twitter-...</td>\n",
       "      <td>Kanye West's Twitter, Instagram accounts restr...</td>\n",
       "      <td>Kanye West's Twitter and Instagram accounts we...</td>\n",
       "    </tr>\n",
       "    <tr>\n",
       "      <th>4</th>\n",
       "      <td>/news/asia/india/news/veteran-indian-politicia...</td>\n",
       "      <td>Veteran Indian politician Mulayam Singh Yadav ...</td>\n",
       "      <td>Veteran Indian politician and former chief min...</td>\n",
       "    </tr>\n",
       "    <tr>\n",
       "      <th>5</th>\n",
       "      <td>/business/economy/stock/news/stocks-slide-amid...</td>\n",
       "      <td>Stocks slide amid selling spree</td>\n",
       "      <td>Stocks in Bangladesh slid today due to the sel...</td>\n",
       "    </tr>\n",
       "    <tr>\n",
       "      <th>6</th>\n",
       "      <td>/entertainment/tv-film/news/bubly-shakib-are-n...</td>\n",
       "      <td>Bubly-Shakib are not together, announcement ma...</td>\n",
       "      <td>Shakib Khan and Shabnom Bubly shocked everyone...</td>\n",
       "    </tr>\n",
       "    <tr>\n",
       "      <th>7</th>\n",
       "      <td>/news/bangladesh/news/al-maintains-democratic-...</td>\n",
       "      <td>AL maintains democratic process in the country...</td>\n",
       "      <td>Prime Minister Sheikh Hasina today said Awami ...</td>\n",
       "    </tr>\n",
       "    <tr>\n",
       "      <th>8</th>\n",
       "      <td>/entertainment/tv-film/news/nora-fatehi-gets-l...</td>\n",
       "      <td>Nora Fatehi gets legal notice from Dhaka</td>\n",
       "      <td>Bollywood diva Nora Fatehi is all set to perfo...</td>\n",
       "    </tr>\n",
       "    <tr>\n",
       "      <th>9</th>\n",
       "      <td>/sports/cricket/news/double-joy-pakistan-new-z...</td>\n",
       "      <td>Double joy for Pakistan with New Zealand visit</td>\n",
       "      <td>New Zealand will tour Pakistan twice from late...</td>\n",
       "    </tr>\n",
       "  </tbody>\n",
       "</table>\n",
       "</div>"
      ],
      "text/plain": [
       "                                                URLS  \\\n",
       "0  /business/news/banks-asked-verify-global-commo...   \n",
       "1  /sports/football/news/cavallo-criticises-casil...   \n",
       "2  /business/news/city-bank-launches-islamic-dps-...   \n",
       "3  /entertainment/music/news/kanye-wests-twitter-...   \n",
       "4  /news/asia/india/news/veteran-indian-politicia...   \n",
       "5  /business/economy/stock/news/stocks-slide-amid...   \n",
       "6  /entertainment/tv-film/news/bubly-shakib-are-n...   \n",
       "7  /news/bangladesh/news/al-maintains-democratic-...   \n",
       "8  /entertainment/tv-film/news/nora-fatehi-gets-l...   \n",
       "9  /sports/cricket/news/double-joy-pakistan-new-z...   \n",
       "\n",
       "                                            Headline  \\\n",
       "0  Banks asked to verify global commodity prices ...   \n",
       "1  Cavallo criticises Casillas for deleted 'I'm g...   \n",
       "2  City Bank launches Islamic DPS savings with bKash   \n",
       "3  Kanye West's Twitter, Instagram accounts restr...   \n",
       "4  Veteran Indian politician Mulayam Singh Yadav ...   \n",
       "5                    Stocks slide amid selling spree   \n",
       "6  Bubly-Shakib are not together, announcement ma...   \n",
       "7  AL maintains democratic process in the country...   \n",
       "8           Nora Fatehi gets legal notice from Dhaka   \n",
       "9    Double joy for Pakistan with New Zealand visit    \n",
       "\n",
       "                                             Article  \n",
       "0  The Bangladesh Bank today asked banks to verif...  \n",
       "1  Australia's first openly gay footballer, Josh ...  \n",
       "2  City Bank launched its first-ever Shariah-base...  \n",
       "3  Kanye West's Twitter and Instagram accounts we...  \n",
       "4  Veteran Indian politician and former chief min...  \n",
       "5  Stocks in Bangladesh slid today due to the sel...  \n",
       "6  Shakib Khan and Shabnom Bubly shocked everyone...  \n",
       "7  Prime Minister Sheikh Hasina today said Awami ...  \n",
       "8  Bollywood diva Nora Fatehi is all set to perfo...  \n",
       "9  New Zealand will tour Pakistan twice from late...  "
      ]
     },
     "execution_count": 5,
     "metadata": {},
     "output_type": "execute_result"
    }
   ],
   "source": [
    "data.head(10)"
   ]
  },
  {
   "cell_type": "code",
   "execution_count": null,
   "metadata": {},
   "outputs": [],
   "source": []
  }
 ],
 "metadata": {
  "kernelspec": {
   "display_name": "Python 3.10.4 ('NLP')",
   "language": "python",
   "name": "python3"
  },
  "language_info": {
   "codemirror_mode": {
    "name": "ipython",
    "version": 3
   },
   "file_extension": ".py",
   "mimetype": "text/x-python",
   "name": "python",
   "nbconvert_exporter": "python",
   "pygments_lexer": "ipython3",
   "version": "3.10.4"
  },
  "orig_nbformat": 4,
  "vscode": {
   "interpreter": {
    "hash": "b308425c1363782e5433040c69737be01249237cf93c313549cb11eaac821734"
   }
  }
 },
 "nbformat": 4,
 "nbformat_minor": 2
}
