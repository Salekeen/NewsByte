{
 "cells": [
  {
   "cell_type": "code",
   "execution_count": 3,
   "metadata": {},
   "outputs": [],
   "source": [
    "import pandas as pd\n",
    "from pathlib import Path\n",
    "path = Path(\"./all_news\")"
   ]
  },
  {
   "cell_type": "code",
   "execution_count": 4,
   "metadata": {},
   "outputs": [],
   "source": [
    "df = pd.DataFrame()\n",
    "\n",
    "for f in path.iterdir():\n",
    "    # reading the file in dataframe\n",
    "    year,month,day = f.stem.split('_')[2:5]\n",
    "    date = f\"{year}-{month}-{day}\"\n",
    "\n",
    "    try:\n",
    "        temp_df = pd.read_csv(f, encoding=\"utf8\")\n",
    "    except UnicodeDecodeError:\n",
    "        temp_df = pd.read_csv(f, encoding=\"'windows-1252\")\n",
    "    \n",
    "    temp_df['date_published'] = date\n",
    "\n",
    "    # adding a single file dataframe to the main dataframe\n",
    "    df = pd.concat([df, temp_df], axis=0)"
   ]
  },
  {
   "cell_type": "code",
   "execution_count": 5,
   "metadata": {},
   "outputs": [
    {
     "data": {
      "text/plain": [
       "(1728, 4)"
      ]
     },
     "execution_count": 5,
     "metadata": {},
     "output_type": "execute_result"
    }
   ],
   "source": [
    "df.shape"
   ]
  },
  {
   "cell_type": "code",
   "execution_count": 6,
   "metadata": {},
   "outputs": [
    {
     "data": {
      "text/html": [
       "<div>\n",
       "<style scoped>\n",
       "    .dataframe tbody tr th:only-of-type {\n",
       "        vertical-align: middle;\n",
       "    }\n",
       "\n",
       "    .dataframe tbody tr th {\n",
       "        vertical-align: top;\n",
       "    }\n",
       "\n",
       "    .dataframe thead th {\n",
       "        text-align: right;\n",
       "    }\n",
       "</style>\n",
       "<table border=\"1\" class=\"dataframe\">\n",
       "  <thead>\n",
       "    <tr style=\"text-align: right;\">\n",
       "      <th></th>\n",
       "      <th>URLS</th>\n",
       "      <th>Headline</th>\n",
       "      <th>Article</th>\n",
       "      <th>date_published</th>\n",
       "    </tr>\n",
       "  </thead>\n",
       "  <tbody>\n",
       "    <tr>\n",
       "      <th>0</th>\n",
       "      <td>/business/economy/opinion/news/averting-fiscal...</td>\n",
       "      <td>Averting fiscal crises in a deteriorating glob...</td>\n",
       "      <td>The war in Ukraine and aftershocks from the Co...</td>\n",
       "      <td>2022-10-08</td>\n",
       "    </tr>\n",
       "    <tr>\n",
       "      <th>1</th>\n",
       "      <td>/opinion/views/news/remembering-the-queens-leg...</td>\n",
       "      <td>In remembering the 'Queen's legacy', why do we...</td>\n",
       "      <td>When news broke of the death of Queen Elizabet...</td>\n",
       "      <td>2022-10-08</td>\n",
       "    </tr>\n",
       "    <tr>\n",
       "      <th>2</th>\n",
       "      <td>/news/bangladesh/news/temple-idol-vandalised-j...</td>\n",
       "      <td>Temple idol vandalised in Jhenidah</td>\n",
       "      <td>Unidentified miscreants vandalised an idol of ...</td>\n",
       "      <td>2022-10-08</td>\n",
       "    </tr>\n",
       "    <tr>\n",
       "      <th>3</th>\n",
       "      <td>/news/bangladesh/crime-justice/news/attack-bcl...</td>\n",
       "      <td>\"Attack on BCL men\": 24 Chhatra Odhikar Parish...</td>\n",
       "      <td>A Dhaka court has sent 24 leaders and activist...</td>\n",
       "      <td>2022-10-08</td>\n",
       "    </tr>\n",
       "    <tr>\n",
       "      <th>4</th>\n",
       "      <td>/opinion/views/news/shanghai-cooperation-organ...</td>\n",
       "      <td>Shanghai Cooperation Organization Summit 2022:...</td>\n",
       "      <td>The Shanghai Cooperation Organization's (SCO) ...</td>\n",
       "      <td>2022-10-08</td>\n",
       "    </tr>\n",
       "  </tbody>\n",
       "</table>\n",
       "</div>"
      ],
      "text/plain": [
       "                                                URLS  \\\n",
       "0  /business/economy/opinion/news/averting-fiscal...   \n",
       "1  /opinion/views/news/remembering-the-queens-leg...   \n",
       "2  /news/bangladesh/news/temple-idol-vandalised-j...   \n",
       "3  /news/bangladesh/crime-justice/news/attack-bcl...   \n",
       "4  /opinion/views/news/shanghai-cooperation-organ...   \n",
       "\n",
       "                                            Headline  \\\n",
       "0  Averting fiscal crises in a deteriorating glob...   \n",
       "1  In remembering the 'Queen's legacy', why do we...   \n",
       "2                 Temple idol vandalised in Jhenidah   \n",
       "3  \"Attack on BCL men\": 24 Chhatra Odhikar Parish...   \n",
       "4  Shanghai Cooperation Organization Summit 2022:...   \n",
       "\n",
       "                                             Article date_published  \n",
       "0  The war in Ukraine and aftershocks from the Co...     2022-10-08  \n",
       "1  When news broke of the death of Queen Elizabet...     2022-10-08  \n",
       "2  Unidentified miscreants vandalised an idol of ...     2022-10-08  \n",
       "3  A Dhaka court has sent 24 leaders and activist...     2022-10-08  \n",
       "4  The Shanghai Cooperation Organization's (SCO) ...     2022-10-08  "
      ]
     },
     "execution_count": 6,
     "metadata": {},
     "output_type": "execute_result"
    }
   ],
   "source": [
    "df.head()"
   ]
  },
  {
   "cell_type": "code",
   "execution_count": 8,
   "metadata": {},
   "outputs": [],
   "source": [
    "df.to_csv(\"all_data_csv.csv\",index=False)"
   ]
  }
 ],
 "metadata": {
  "kernelspec": {
   "display_name": "Python 3.10.6 ('alpha')",
   "language": "python",
   "name": "python3"
  },
  "language_info": {
   "codemirror_mode": {
    "name": "ipython",
    "version": 3
   },
   "file_extension": ".py",
   "mimetype": "text/x-python",
   "name": "python",
   "nbconvert_exporter": "python",
   "pygments_lexer": "ipython3",
   "version": "3.10.6"
  },
  "orig_nbformat": 4,
  "vscode": {
   "interpreter": {
    "hash": "38ecd78ba4a904cccd29621bbac2233ed79f46489c159daef6aa04b9629ab3a9"
   }
  }
 },
 "nbformat": 4,
 "nbformat_minor": 2
}
