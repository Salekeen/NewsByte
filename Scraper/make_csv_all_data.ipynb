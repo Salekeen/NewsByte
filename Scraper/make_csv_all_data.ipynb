{
 "cells": [
  {
   "cell_type": "code",
   "execution_count": 7,
   "metadata": {},
   "outputs": [],
   "source": [
    "import pandas as pd\n",
    "from pathlib import Path\n",
    "path = Path(\"./Data/top_news\")"
   ]
  },
  {
   "cell_type": "code",
   "execution_count": 8,
   "metadata": {},
   "outputs": [],
   "source": [
    "df = pd.DataFrame()\n",
    "\n",
    "for f in path.iterdir():\n",
    "    # reading the file in dataframe\n",
    "    year,month,day = f.stem.split('_')[2:5]\n",
    "    date = f\"{year}-{month}-{day}\"\n",
    "\n",
    "    try:\n",
    "        temp_df = pd.read_csv(f, encoding=\"utf8\")\n",
    "    except UnicodeDecodeError:\n",
    "        temp_df = pd.read_csv(f, encoding=\"'windows-1252\")\n",
    "    \n",
    "    temp_df['date_published'] = date\n",
    "\n",
    "    # adding a single file dataframe to the main dataframe\n",
    "    df = pd.concat([df, temp_df], axis=0)"
   ]
  },
  {
   "cell_type": "code",
   "execution_count": 9,
   "metadata": {},
   "outputs": [
    {
     "data": {
      "text/plain": [
       "(533, 4)"
      ]
     },
     "execution_count": 9,
     "metadata": {},
     "output_type": "execute_result"
    }
   ],
   "source": [
    "df.shape"
   ]
  },
  {
   "cell_type": "code",
   "execution_count": 10,
   "metadata": {},
   "outputs": [
    {
     "data": {
      "text/html": [
       "<div>\n",
       "<style scoped>\n",
       "    .dataframe tbody tr th:only-of-type {\n",
       "        vertical-align: middle;\n",
       "    }\n",
       "\n",
       "    .dataframe tbody tr th {\n",
       "        vertical-align: top;\n",
       "    }\n",
       "\n",
       "    .dataframe thead th {\n",
       "        text-align: right;\n",
       "    }\n",
       "</style>\n",
       "<table border=\"1\" class=\"dataframe\">\n",
       "  <thead>\n",
       "    <tr style=\"text-align: right;\">\n",
       "      <th></th>\n",
       "      <th>URLS</th>\n",
       "      <th>Headline</th>\n",
       "      <th>Article</th>\n",
       "      <th>date_published</th>\n",
       "    </tr>\n",
       "  </thead>\n",
       "  <tbody>\n",
       "    <tr>\n",
       "      <th>0</th>\n",
       "      <td>/weekend-read/news/discovery-may-save-bara-kat...</td>\n",
       "      <td>A discovery that may save Bara Katra</td>\n",
       "      <td>An exciting new discovery by researchers has r...</td>\n",
       "      <td>2022-10-01</td>\n",
       "    </tr>\n",
       "    <tr>\n",
       "      <th>1</th>\n",
       "      <td>/rohingya-influx/news/myanmar-conflicts-hurtin...</td>\n",
       "      <td>Myanmar conflicts hurting Bangladesh</td>\n",
       "      <td>Conflicts in Myanmar intensified after the mil...</td>\n",
       "      <td>2022-10-01</td>\n",
       "    </tr>\n",
       "    <tr>\n",
       "      <th>2</th>\n",
       "      <td>/weekend-read/news/the-colourful-history-bara-...</td>\n",
       "      <td>The colourful history of Bara Katra</td>\n",
       "      <td>\"Katra\" is a Persian word that means caravanse...</td>\n",
       "      <td>2022-10-01</td>\n",
       "    </tr>\n",
       "    <tr>\n",
       "      <th>3</th>\n",
       "      <td>/youth/education/news/teachers-public-univs-wo...</td>\n",
       "      <td>Teachers at public univs: Worktime set at  40 ...</td>\n",
       "      <td>A public university teacher will have to work ...</td>\n",
       "      <td>2022-10-01</td>\n",
       "    </tr>\n",
       "    <tr>\n",
       "      <th>4</th>\n",
       "      <td>/sports/cricket/news/salt-sinks-pakistan-engla...</td>\n",
       "      <td>Salt sinks Pakistan as England force series de...</td>\n",
       "      <td>England's Phil Salt scored a blistering half-c...</td>\n",
       "      <td>2022-10-01</td>\n",
       "    </tr>\n",
       "  </tbody>\n",
       "</table>\n",
       "</div>"
      ],
      "text/plain": [
       "                                                URLS  \\\n",
       "0  /weekend-read/news/discovery-may-save-bara-kat...   \n",
       "1  /rohingya-influx/news/myanmar-conflicts-hurtin...   \n",
       "2  /weekend-read/news/the-colourful-history-bara-...   \n",
       "3  /youth/education/news/teachers-public-univs-wo...   \n",
       "4  /sports/cricket/news/salt-sinks-pakistan-engla...   \n",
       "\n",
       "                                            Headline  \\\n",
       "0               A discovery that may save Bara Katra   \n",
       "1               Myanmar conflicts hurting Bangladesh   \n",
       "2               The colourful history of Bara Katra    \n",
       "3  Teachers at public univs: Worktime set at  40 ...   \n",
       "4  Salt sinks Pakistan as England force series de...   \n",
       "\n",
       "                                             Article date_published  \n",
       "0  An exciting new discovery by researchers has r...     2022-10-01  \n",
       "1  Conflicts in Myanmar intensified after the mil...     2022-10-01  \n",
       "2  \"Katra\" is a Persian word that means caravanse...     2022-10-01  \n",
       "3  A public university teacher will have to work ...     2022-10-01  \n",
       "4  England's Phil Salt scored a blistering half-c...     2022-10-01  "
      ]
     },
     "execution_count": 10,
     "metadata": {},
     "output_type": "execute_result"
    }
   ],
   "source": [
    "df.head()"
   ]
  },
  {
   "cell_type": "code",
   "execution_count": 11,
   "metadata": {},
   "outputs": [],
   "source": [
    "df.to_csv(\"./Data/top_data_csv.csv\",index=False)"
   ]
  }
 ],
 "metadata": {
  "kernelspec": {
   "display_name": "Python 3.10.6 ('alpha')",
   "language": "python",
   "name": "python3"
  },
  "language_info": {
   "codemirror_mode": {
    "name": "ipython",
    "version": 3
   },
   "file_extension": ".py",
   "mimetype": "text/x-python",
   "name": "python",
   "nbconvert_exporter": "python",
   "pygments_lexer": "ipython3",
   "version": "3.10.6"
  },
  "orig_nbformat": 4,
  "vscode": {
   "interpreter": {
    "hash": "38ecd78ba4a904cccd29621bbac2233ed79f46489c159daef6aa04b9629ab3a9"
   }
  }
 },
 "nbformat": 4,
 "nbformat_minor": 2
}
